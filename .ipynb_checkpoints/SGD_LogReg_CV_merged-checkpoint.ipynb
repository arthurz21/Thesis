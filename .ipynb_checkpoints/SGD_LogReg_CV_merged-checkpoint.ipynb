{
 "cells": [
  {
   "cell_type": "code",
   "execution_count": 1,
   "id": "bbb85ce4-a856-49cd-a8c2-4701bce936ec",
   "metadata": {},
   "outputs": [],
   "source": [
    "from sklearn.linear_model import SGDClassifier  # Replaces KNeighborsClassifier\n",
    "from sklearn.model_selection import GridSearchCV\n",
    "import numpy as np\n",
    "import pandas as pd\n",
    "import os\n",
    "from sklearn.metrics import roc_curve, auc, precision_recall_curve, average_precision_score, confusion_matrix, ConfusionMatrixDisplay, classification_report\n",
    "from sklearn.metrics import roc_auc_score\n",
    "from sklearn import preprocessing\n",
    "from sklearn.model_selection import train_test_split\n",
    "import matplotlib.pyplot as plt\n",
    "from sklearn.ensemble import RandomForestClassifier\n",
    "from sklearn.calibration import CalibratedClassifierCV\n",
    "from sklearn.metrics import precision_score, recall_score, f1_score\n",
    "from copy import deepcopy\n",
    "from math import sqrt\n",
    "from sklearn.utils import resample\n",
    "from sklearn.metrics import make_scorer, recall_score\n",
    "from sklearn.pipeline import make_pipeline\n",
    "from sklearn.model_selection import KFold, cross_val_score, cross_val_predict"
   ]
  },
  {
   "cell_type": "code",
   "execution_count": 2,
   "id": "220e08ea-e8de-4ab6-88a8-992d1843448a",
   "metadata": {},
   "outputs": [
    {
     "name": "stdout",
     "output_type": "stream",
     "text": [
      "Training set: 5850 samples (80.0%)\n",
      "Validation set: 1463 samples (20.0%)\n"
     ]
    }
   ],
   "source": [
    "merged_cohort = pd.read_csv(\"merged_file.csv\")\n",
    "y = merged_cohort['Outcome_Occlusion_MI']\n",
    "X = merged_cohort.drop('Outcome_Occlusion_MI', axis=1)\n",
    "X_train, X_val, y_train, y_val = train_test_split(\n",
    "    X, y, \n",
    "    test_size=0.2,  # 30% for val+test (which is 15%+15%)\n",
    "    stratify=y,\n",
    "    random_state=99\n",
    ")\n",
    "'''\n",
    "# Step 2: Split the temp set into validation and test sets\n",
    "X_val, X_test, y_val, y_test = train_test_split(\n",
    "    X_temp, y_temp,\n",
    "    test_size=0.5,  # 50% of 30% = 15% of original data\n",
    "    stratify=y_temp,  # Maintain stratification in this split too\n",
    "    random_state=99\n",
    ")\n",
    "'''\n",
    "# Verify the proportions\n",
    "print(f\"Training set: {len(X_train)} samples ({len(X_train)/len(X):.1%})\")\n",
    "print(f\"Validation set: {len(X_val)} samples ({len(X_val)/len(X):.1%})\")\n",
    "#print(f\"Test set: {len(X_test)} samples ({len(X_test)/len(X):.1%})\")"
   ]
  },
  {
   "cell_type": "code",
   "execution_count": 3,
   "id": "c30366f2-5cfc-4d27-b2d2-5169d8304578",
   "metadata": {},
   "outputs": [
    {
     "name": "stderr",
     "output_type": "stream",
     "text": [
      "C:\\Users\\arthu\\AppData\\Local\\Temp\\ipykernel_103396\\2349841912.py:2: FutureWarning: A value is trying to be set on a copy of a DataFrame or Series through chained assignment using an inplace method.\n",
      "The behavior will change in pandas 3.0. This inplace method will never work because the intermediate object on which we are setting values always behaves as a copy.\n",
      "\n",
      "For example, when doing 'df[col].method(value, inplace=True)', try using 'df.method({col: value}, inplace=True)' or df[col] = df[col].method(value) instead, to perform the operation inplace on the original object.\n",
      "\n",
      "\n",
      "  X_train[el].fillna(X_train[el].mode()[0], inplace=True)\n",
      "C:\\Users\\arthu\\AppData\\Local\\Temp\\ipykernel_103396\\2349841912.py:4: FutureWarning: A value is trying to be set on a copy of a DataFrame or Series through chained assignment using an inplace method.\n",
      "The behavior will change in pandas 3.0. This inplace method will never work because the intermediate object on which we are setting values always behaves as a copy.\n",
      "\n",
      "For example, when doing 'df[col].method(value, inplace=True)', try using 'df.method({col: value}, inplace=True)' or df[col] = df[col].method(value) instead, to perform the operation inplace on the original object.\n",
      "\n",
      "\n",
      "  X_val[el].fillna(X_train[el].mode()[0], inplace=True)\n"
     ]
    }
   ],
   "source": [
    "for el in X_train.columns:\n",
    "    X_train[el].fillna(X_train[el].mode()[0], inplace=True)\n",
    "    #X_test[el].fillna(X_train[el].mode()[0], inplace=True)\n",
    "    X_val[el].fillna(X_train[el].mode()[0], inplace=True)\n",
    "\n",
    "y_train = np.ravel(np.array(y_train.values))\n",
    "#y_test = np.ravel(np.array(y_test.values))\n",
    "y_val = np.ravel(np.array(y_val.values))\n",
    "\n",
    "columns = X_train.columns\n",
    "\n",
    "X_train = np.array(X_train.values)\n",
    "#X_test = np.array(X_test.values)\n",
    "X_val = np.array(X_val.values)\n",
    "\n",
    "scaler = preprocessing.StandardScaler().fit(X_train) # Compute mean and std of training set\n",
    "X_train = scaler.transform(X_train, copy=True)\n",
    "#X_test = scaler.transform(X_test, copy=True) # Standardize X_test using training mean and std\n",
    "X_val = scaler.transform(X_val, copy=True)"
   ]
  },
  {
   "cell_type": "code",
   "execution_count": 4,
   "id": "f7bfca84-95bd-4fdf-af77-2fd20d89fca2",
   "metadata": {},
   "outputs": [],
   "source": [
    "def plot_ROC_curve(fpr, tpr, roc_auc, title):\n",
    "    plt.figure(figsize=[5, 5])\n",
    "    plt.title(title)\n",
    "    plt.plot(fpr, tpr, color='b',\n",
    "                 label=r'SGD_log_reg (AUC = %0.3f)' % (roc_auc),\n",
    "                 lw=2, alpha=.8)\n",
    "    plt.plot([0, 1], [0, 1], linestyle='--', lw=1, color='grey', alpha=.5)\n",
    "    plt.xlim([-0.05, 1.05])\n",
    "    plt.ylim([-0.05, 1.05])\n",
    "    plt.xlabel('False Positive Rate = 1 - Specificity')\n",
    "    plt.ylabel('True Positive Rate = Sensitivity')\n",
    "    plt.legend(loc=\"lower right\")\n",
    "    plt.show()"
   ]
  },
  {
   "cell_type": "code",
   "execution_count": 5,
   "id": "bb24766d-51cd-4e61-a340-5047c3cb2f1e",
   "metadata": {},
   "outputs": [],
   "source": [
    "def results(pred_probas):\n",
    "    OMI_score = np.round(pred_probas[:, 1]*100, decimals=2)\n",
    "    y_pred = np.where(OMI_score<5, 'Low risk', 'Intermediate risk')\n",
    "    y_pred = np.where(OMI_score>=20, 'High risk', y_pred)\n",
    "    \n",
    "    results = {\n",
    "        'Low risk': [np.count_nonzero(y_pred == 'Low risk')],\n",
    "        'Intermediate risk': [np.count_nonzero(y_pred == 'Intermediate risk')],\n",
    "        'High risk': [np.count_nonzero(y_pred == 'High risk')]\n",
    "    }\n",
    "    return(pd.DataFrame(data=results, index=['Count (N)']))"
   ]
  },
  {
   "cell_type": "code",
   "execution_count": 6,
   "id": "cb8c2280-c7de-4e80-8603-afe4eb6c174c",
   "metadata": {},
   "outputs": [],
   "source": [
    "def bootstrap_metric_ci(y_true, y_pred, metric_fn, n_bootstrap=1000, alpha=0.05):\n",
    "    \"\"\"\n",
    "    Compute 95% confidence interval using bootstrapping for any metric.\n",
    "    \n",
    "    Parameters:\n",
    "    - y_true: Ground truth labels (0 or 1).\n",
    "    - y_pred: Predicted values (either probabilities or binary predictions).\n",
    "    - metric_fn: Metric function (roc_auc_score, recall_score, f1_score).\n",
    "    - n_bootstrap: Number of bootstrap resamples.\n",
    "    - alpha: Significance level (default 0.05 for 95% CI).\n",
    "\n",
    "    Returns:\n",
    "    - Lower and upper bound of the confidence interval.\n",
    "    \"\"\"\n",
    "    scores = []\n",
    "    \n",
    "    for _ in range(n_bootstrap):\n",
    "        # Resample dataset with replacement\n",
    "        indices = resample(range(len(y_true)), replace=True, n_samples=len(y_true))\n",
    "        y_true_bootstrap = np.array(y_true)[indices]\n",
    "        y_pred_bootstrap = np.array(y_pred)[indices]\n",
    "\n",
    "        # Special case for AUROC: Use roc_curve and auc()\n",
    "        if metric_fn == \"auroc\":\n",
    "            fpr, tpr, _ = roc_curve(y_true_bootstrap, y_pred_bootstrap)\n",
    "            score = auc(fpr, tpr)\n",
    "        else:\n",
    "            score = metric_fn(y_true_bootstrap, y_pred_bootstrap)\n",
    "\n",
    "        scores.append(score)\n",
    "    \n",
    "    # Compute confidence interval\n",
    "    lower_bound = np.percentile(scores, 100 * (alpha / 2))\n",
    "    upper_bound = np.percentile(scores, 100 * (1 - alpha / 2))\n",
    "    \n",
    "    return lower_bound, upper_bound"
   ]
  },
  {
   "cell_type": "code",
   "execution_count": 7,
   "id": "032414db-2f4a-4e2b-99e9-54c83b4c724d",
   "metadata": {},
   "outputs": [
    {
     "name": "stdout",
     "output_type": "stream",
     "text": [
      "Hyperparameter Tuning with 10-Fold Cross-Validation\n",
      "Searching for optimal hyperparameters across 144 combinations...\n"
     ]
    },
    {
     "name": "stderr",
     "output_type": "stream",
     "text": [
      "  1%|█▍                                                                                                                                                                                                               | 1/144 [00:00<00:59,  2.40it/s]"
     ]
    },
    {
     "name": "stdout",
     "output_type": "stream",
     "text": [
      "Parameters: alpha=0.0001, penalty=l2, learning_rate=optimal, eta0=N/A, CV AUROC=0.8341 ± 0.0244\n"
     ]
    },
    {
     "name": "stderr",
     "output_type": "stream",
     "text": [
      "  3%|███████▎                                                                                                                                                                                                         | 5/144 [00:00<00:19,  7.05it/s]"
     ]
    },
    {
     "name": "stdout",
     "output_type": "stream",
     "text": [
      "Parameters: alpha=0.0001, penalty=l2, learning_rate=invscaling, eta0=0.01, CV AUROC=0.8327 ± 0.0410\n",
      "Parameters: alpha=0.0001, penalty=l2, learning_rate=invscaling, eta0=0.1, CV AUROC=0.8632 ± 0.0349\n",
      "Parameters: alpha=0.0001, penalty=l2, learning_rate=invscaling, eta0=1, CV AUROC=0.8646 ± 0.0337\n"
     ]
    },
    {
     "name": "stderr",
     "output_type": "stream",
     "text": [
      "  6%|█████████████                                                                                                                                                                                                    | 9/144 [00:01<00:13,  9.78it/s]"
     ]
    },
    {
     "name": "stdout",
     "output_type": "stream",
     "text": [
      "Parameters: alpha=0.0001, penalty=l2, learning_rate=constant, eta0=0.01, CV AUROC=0.8590 ± 0.0263\n",
      "Parameters: alpha=0.0001, penalty=l2, learning_rate=constant, eta0=0.1, CV AUROC=0.7590 ± 0.0291\n",
      "Parameters: alpha=0.0001, penalty=l2, learning_rate=constant, eta0=1, CV AUROC=0.7180 ± 0.0597\n",
      "Parameters: alpha=0.0001, penalty=l2, learning_rate=adaptive, eta0=0.01, CV AUROC=0.8646 ± 0.0354\n"
     ]
    },
    {
     "name": "stderr",
     "output_type": "stream",
     "text": [
      "  8%|███████████████▉                                                                                                                                                                                                | 11/144 [00:01<00:25,  5.18it/s]"
     ]
    },
    {
     "name": "stdout",
     "output_type": "stream",
     "text": [
      "Parameters: alpha=0.0001, penalty=l2, learning_rate=adaptive, eta0=0.1, CV AUROC=0.8600 ± 0.0362\n"
     ]
    },
    {
     "name": "stderr",
     "output_type": "stream",
     "text": [
      "  8%|█████████████████▎                                                                                                                                                                                              | 12/144 [00:02<00:33,  3.89it/s]"
     ]
    },
    {
     "name": "stdout",
     "output_type": "stream",
     "text": [
      "Parameters: alpha=0.0001, penalty=l2, learning_rate=adaptive, eta0=1, CV AUROC=0.8601 ± 0.0352\n"
     ]
    },
    {
     "name": "stderr",
     "output_type": "stream",
     "text": [
      "  9%|██████████████████▊                                                                                                                                                                                             | 13/144 [00:03<00:52,  2.49it/s]"
     ]
    },
    {
     "name": "stdout",
     "output_type": "stream",
     "text": [
      "Parameters: alpha=0.0001, penalty=l1, learning_rate=optimal, eta0=N/A, CV AUROC=0.8265 ± 0.0371\n"
     ]
    },
    {
     "name": "stderr",
     "output_type": "stream",
     "text": [
      " 12%|████████████████████████▌                                                                                                                                                                                       | 17/144 [00:03<00:32,  3.90it/s]"
     ]
    },
    {
     "name": "stdout",
     "output_type": "stream",
     "text": [
      "Parameters: alpha=0.0001, penalty=l1, learning_rate=invscaling, eta0=0.01, CV AUROC=0.8320 ± 0.0412\n",
      "Parameters: alpha=0.0001, penalty=l1, learning_rate=invscaling, eta0=0.1, CV AUROC=0.8630 ± 0.0349\n"
     ]
    },
    {
     "name": "stderr",
     "output_type": "stream",
     "text": [
      " 12%|██████████████████████████                                                                                                                                                                                      | 18/144 [00:04<00:30,  4.14it/s]"
     ]
    },
    {
     "name": "stdout",
     "output_type": "stream",
     "text": [
      "Parameters: alpha=0.0001, penalty=l1, learning_rate=invscaling, eta0=1, CV AUROC=0.8650 ± 0.0340\n",
      "Parameters: alpha=0.0001, penalty=l1, learning_rate=constant, eta0=0.01, CV AUROC=0.8632 ± 0.0283\n"
     ]
    },
    {
     "name": "stderr",
     "output_type": "stream",
     "text": [
      " 14%|████████████████████████████▉                                                                                                                                                                                   | 20/144 [00:04<00:32,  3.77it/s]"
     ]
    },
    {
     "name": "stdout",
     "output_type": "stream",
     "text": [
      "Parameters: alpha=0.0001, penalty=l1, learning_rate=constant, eta0=0.1, CV AUROC=0.7784 ± 0.0481\n"
     ]
    },
    {
     "name": "stderr",
     "output_type": "stream",
     "text": [
      " 15%|██████████████████████████████▎                                                                                                                                                                                 | 21/144 [00:05<00:36,  3.37it/s]"
     ]
    },
    {
     "name": "stdout",
     "output_type": "stream",
     "text": [
      "Parameters: alpha=0.0001, penalty=l1, learning_rate=constant, eta0=1, CV AUROC=0.7422 ± 0.0535\n"
     ]
    },
    {
     "name": "stderr",
     "output_type": "stream",
     "text": [
      " 15%|███████████████████████████████▊                                                                                                                                                                                | 22/144 [00:05<00:43,  2.81it/s]"
     ]
    },
    {
     "name": "stdout",
     "output_type": "stream",
     "text": [
      "Parameters: alpha=0.0001, penalty=l1, learning_rate=adaptive, eta0=0.01, CV AUROC=0.8657 ± 0.0350\n"
     ]
    },
    {
     "name": "stderr",
     "output_type": "stream",
     "text": [
      " 16%|█████████████████████████████████▏                                                                                                                                                                              | 23/144 [00:06<01:07,  1.78it/s]"
     ]
    },
    {
     "name": "stdout",
     "output_type": "stream",
     "text": [
      "Parameters: alpha=0.0001, penalty=l1, learning_rate=adaptive, eta0=0.1, CV AUROC=0.8614 ± 0.0356\n"
     ]
    },
    {
     "name": "stderr",
     "output_type": "stream",
     "text": [
      " 17%|██████████████████████████████████▋                                                                                                                                                                             | 24/144 [00:08<01:39,  1.21it/s]"
     ]
    },
    {
     "name": "stdout",
     "output_type": "stream",
     "text": [
      "Parameters: alpha=0.0001, penalty=l1, learning_rate=adaptive, eta0=1, CV AUROC=0.8579 ± 0.0392\n"
     ]
    },
    {
     "name": "stderr",
     "output_type": "stream",
     "text": [
      " 17%|████████████████████████████████████                                                                                                                                                                            | 25/144 [00:08<01:38,  1.20it/s]"
     ]
    },
    {
     "name": "stdout",
     "output_type": "stream",
     "text": [
      "Parameters: alpha=0.0001, penalty=elasticnet, learning_rate=optimal, eta0=N/A, CV AUROC=0.8214 ± 0.0449\n"
     ]
    },
    {
     "name": "stderr",
     "output_type": "stream",
     "text": [
      " 20%|█████████████████████████████████████████▉                                                                                                                                                                      | 29/144 [00:09<00:45,  2.51it/s]"
     ]
    },
    {
     "name": "stdout",
     "output_type": "stream",
     "text": [
      "Parameters: alpha=0.0001, penalty=elasticnet, learning_rate=invscaling, eta0=0.01, CV AUROC=0.8326 ± 0.0410\n",
      "Parameters: alpha=0.0001, penalty=elasticnet, learning_rate=invscaling, eta0=0.1, CV AUROC=0.8632 ± 0.0349\n"
     ]
    },
    {
     "name": "stderr",
     "output_type": "stream",
     "text": [
      " 22%|████████████████████████████████████████████▊                                                                                                                                                                   | 31/144 [00:09<00:33,  3.34it/s]"
     ]
    },
    {
     "name": "stdout",
     "output_type": "stream",
     "text": [
      "Parameters: alpha=0.0001, penalty=elasticnet, learning_rate=invscaling, eta0=1, CV AUROC=0.8647 ± 0.0337\n",
      "Parameters: alpha=0.0001, penalty=elasticnet, learning_rate=constant, eta0=0.01, CV AUROC=0.8620 ± 0.0273\n"
     ]
    },
    {
     "name": "stderr",
     "output_type": "stream",
     "text": [
      " 22%|██████████████████████████████████████████████▏                                                                                                                                                                 | 32/144 [00:10<00:30,  3.71it/s]"
     ]
    },
    {
     "name": "stdout",
     "output_type": "stream",
     "text": [
      "Parameters: alpha=0.0001, penalty=elasticnet, learning_rate=constant, eta0=0.1, CV AUROC=0.7789 ± 0.0293\n"
     ]
    },
    {
     "name": "stderr",
     "output_type": "stream",
     "text": [
      " 23%|███████████████████████████████████████████████▋                                                                                                                                                                | 33/144 [00:10<00:29,  3.72it/s]"
     ]
    },
    {
     "name": "stdout",
     "output_type": "stream",
     "text": [
      "Parameters: alpha=0.0001, penalty=elasticnet, learning_rate=constant, eta0=1, CV AUROC=0.7343 ± 0.0631\n"
     ]
    },
    {
     "name": "stderr",
     "output_type": "stream",
     "text": [
      " 24%|█████████████████████████████████████████████████                                                                                                                                                               | 34/144 [00:10<00:35,  3.07it/s]"
     ]
    },
    {
     "name": "stdout",
     "output_type": "stream",
     "text": [
      "Parameters: alpha=0.0001, penalty=elasticnet, learning_rate=adaptive, eta0=0.01, CV AUROC=0.8647 ± 0.0353\n"
     ]
    },
    {
     "name": "stderr",
     "output_type": "stream",
     "text": [
      " 24%|██████████████████████████████████████████████████▌                                                                                                                                                             | 35/144 [00:11<00:50,  2.17it/s]"
     ]
    },
    {
     "name": "stdout",
     "output_type": "stream",
     "text": [
      "Parameters: alpha=0.0001, penalty=elasticnet, learning_rate=adaptive, eta0=0.1, CV AUROC=0.8607 ± 0.0357\n"
     ]
    },
    {
     "name": "stderr",
     "output_type": "stream",
     "text": [
      " 26%|█████████████████████████████████████████████████████▍                                                                                                                                                          | 37/144 [00:13<00:57,  1.86it/s]"
     ]
    },
    {
     "name": "stdout",
     "output_type": "stream",
     "text": [
      "Parameters: alpha=0.0001, penalty=elasticnet, learning_rate=adaptive, eta0=1, CV AUROC=0.8613 ± 0.0352\n",
      "Parameters: alpha=0.001, penalty=l2, learning_rate=optimal, eta0=N/A, CV AUROC=0.8557 ± 0.0377\n"
     ]
    },
    {
     "name": "stderr",
     "output_type": "stream",
     "text": [
      " 28%|███████████████████████████████████████████████████████████▏                                                                                                                                                    | 41/144 [00:13<00:26,  3.96it/s]"
     ]
    },
    {
     "name": "stdout",
     "output_type": "stream",
     "text": [
      "Parameters: alpha=0.001, penalty=l2, learning_rate=invscaling, eta0=0.01, CV AUROC=0.8326 ± 0.0410\n",
      "Parameters: alpha=0.001, penalty=l2, learning_rate=invscaling, eta0=0.1, CV AUROC=0.8628 ± 0.0351\n"
     ]
    },
    {
     "name": "stderr",
     "output_type": "stream",
     "text": [
      " 30%|██████████████████████████████████████████████████████████████                                                                                                                                                  | 43/144 [00:13<00:19,  5.15it/s]"
     ]
    },
    {
     "name": "stdout",
     "output_type": "stream",
     "text": [
      "Parameters: alpha=0.001, penalty=l2, learning_rate=invscaling, eta0=1, CV AUROC=0.8661 ± 0.0346\n",
      "Parameters: alpha=0.001, penalty=l2, learning_rate=constant, eta0=0.01, CV AUROC=0.8547 ± 0.0319\n",
      "Parameters: alpha=0.001, penalty=l2, learning_rate=constant, eta0=0.1, CV AUROC=0.7420 ± 0.0497\n"
     ]
    },
    {
     "name": "stderr",
     "output_type": "stream",
     "text": [
      " 31%|█████████████████████████████████████████████████████████████████                                                                                                                                               | 45/144 [00:13<00:15,  6.59it/s]"
     ]
    },
    {
     "name": "stdout",
     "output_type": "stream",
     "text": [
      "Parameters: alpha=0.001, penalty=l2, learning_rate=constant, eta0=1, CV AUROC=0.6849 ± 0.0596\n"
     ]
    },
    {
     "name": "stderr",
     "output_type": "stream",
     "text": [
      " 32%|██████████████████████████████████████████████████████████████████▍                                                                                                                                             | 46/144 [00:14<00:18,  5.40it/s]"
     ]
    },
    {
     "name": "stdout",
     "output_type": "stream",
     "text": [
      "Parameters: alpha=0.001, penalty=l2, learning_rate=adaptive, eta0=0.01, CV AUROC=0.8664 ± 0.0357\n"
     ]
    },
    {
     "name": "stderr",
     "output_type": "stream",
     "text": [
      " 33%|███████████████████████████████████████████████████████████████████▉                                                                                                                                            | 47/144 [00:14<00:22,  4.33it/s]"
     ]
    },
    {
     "name": "stdout",
     "output_type": "stream",
     "text": [
      "Parameters: alpha=0.001, penalty=l2, learning_rate=adaptive, eta0=0.1, CV AUROC=0.8653 ± 0.0355\n"
     ]
    },
    {
     "name": "stderr",
     "output_type": "stream",
     "text": [
      " 33%|█████████████████████████████████████████████████████████████████████▎                                                                                                                                          | 48/144 [00:14<00:27,  3.54it/s]"
     ]
    },
    {
     "name": "stdout",
     "output_type": "stream",
     "text": [
      "Parameters: alpha=0.001, penalty=l2, learning_rate=adaptive, eta0=1, CV AUROC=0.8655 ± 0.0348\n"
     ]
    },
    {
     "name": "stderr",
     "output_type": "stream",
     "text": [
      " 34%|██████████████████████████████████████████████████████████████████████▊                                                                                                                                         | 49/144 [00:17<01:31,  1.04it/s]"
     ]
    },
    {
     "name": "stdout",
     "output_type": "stream",
     "text": [
      "Parameters: alpha=0.001, penalty=l1, learning_rate=optimal, eta0=N/A, CV AUROC=0.8266 ± 0.0308\n"
     ]
    },
    {
     "name": "stderr",
     "output_type": "stream",
     "text": [
      " 36%|███████████████████████████████████████████████████████████████████████████                                                                                                                                     | 52/144 [00:18<00:50,  1.82it/s]"
     ]
    },
    {
     "name": "stdout",
     "output_type": "stream",
     "text": [
      "Parameters: alpha=0.001, penalty=l1, learning_rate=invscaling, eta0=0.01, CV AUROC=0.8270 ± 0.0422\n",
      "Parameters: alpha=0.001, penalty=l1, learning_rate=invscaling, eta0=0.1, CV AUROC=0.8589 ± 0.0349\n"
     ]
    },
    {
     "name": "stderr",
     "output_type": "stream",
     "text": [
      " 38%|██████████████████████████████████████████████████████████████████████████████                                                                                                                                  | 54/144 [00:18<00:37,  2.39it/s]"
     ]
    },
    {
     "name": "stdout",
     "output_type": "stream",
     "text": [
      "Parameters: alpha=0.001, penalty=l1, learning_rate=invscaling, eta0=1, CV AUROC=0.8677 ± 0.0345\n",
      "Parameters: alpha=0.001, penalty=l1, learning_rate=constant, eta0=0.01, CV AUROC=0.8636 ± 0.0337\n"
     ]
    },
    {
     "name": "stderr",
     "output_type": "stream",
     "text": [
      " 39%|████████████████████████████████████████████████████████████████████████████████▉                                                                                                                               | 56/144 [00:19<00:30,  2.90it/s]"
     ]
    },
    {
     "name": "stdout",
     "output_type": "stream",
     "text": [
      "Parameters: alpha=0.001, penalty=l1, learning_rate=constant, eta0=0.1, CV AUROC=0.8089 ± 0.0485\n"
     ]
    },
    {
     "name": "stderr",
     "output_type": "stream",
     "text": [
      " 40%|██████████████████████████████████████████████████████████████████████████████████▎                                                                                                                             | 57/144 [00:19<00:31,  2.78it/s]"
     ]
    },
    {
     "name": "stdout",
     "output_type": "stream",
     "text": [
      "Parameters: alpha=0.001, penalty=l1, learning_rate=constant, eta0=1, CV AUROC=0.7490 ± 0.0425\n"
     ]
    },
    {
     "name": "stderr",
     "output_type": "stream",
     "text": [
      " 40%|███████████████████████████████████████████████████████████████████████████████████▊                                                                                                                            | 58/144 [00:20<00:36,  2.39it/s]"
     ]
    },
    {
     "name": "stdout",
     "output_type": "stream",
     "text": [
      "Parameters: alpha=0.001, penalty=l1, learning_rate=adaptive, eta0=0.01, CV AUROC=0.8672 ± 0.0359\n"
     ]
    },
    {
     "name": "stderr",
     "output_type": "stream",
     "text": [
      " 41%|█████████████████████████████████████████████████████████████████████████████████████▏                                                                                                                          | 59/144 [00:21<00:46,  1.81it/s]"
     ]
    },
    {
     "name": "stdout",
     "output_type": "stream",
     "text": [
      "Parameters: alpha=0.001, penalty=l1, learning_rate=adaptive, eta0=0.1, CV AUROC=0.8672 ± 0.0357\n"
     ]
    },
    {
     "name": "stderr",
     "output_type": "stream",
     "text": [
      " 42%|██████████████████████████████████████████████████████████████████████████████████████▋                                                                                                                         | 60/144 [00:22<01:05,  1.28it/s]"
     ]
    },
    {
     "name": "stdout",
     "output_type": "stream",
     "text": [
      "Parameters: alpha=0.001, penalty=l1, learning_rate=adaptive, eta0=1, CV AUROC=0.8659 ± 0.0378\n"
     ]
    },
    {
     "name": "stderr",
     "output_type": "stream",
     "text": [
      " 42%|████████████████████████████████████████████████████████████████████████████████████████                                                                                                                        | 61/144 [00:22<00:55,  1.51it/s]"
     ]
    },
    {
     "name": "stdout",
     "output_type": "stream",
     "text": [
      "Parameters: alpha=0.001, penalty=elasticnet, learning_rate=optimal, eta0=N/A, CV AUROC=0.8634 ± 0.0336\n"
     ]
    },
    {
     "name": "stderr",
     "output_type": "stream",
     "text": [
      " 44%|████████████████████████████████████████████████████████████████████████████████████████████▍                                                                                                                   | 64/144 [00:23<00:30,  2.63it/s]"
     ]
    },
    {
     "name": "stdout",
     "output_type": "stream",
     "text": [
      "Parameters: alpha=0.001, penalty=elasticnet, learning_rate=invscaling, eta0=0.01, CV AUROC=0.8317 ± 0.0412\n",
      "Parameters: alpha=0.001, penalty=elasticnet, learning_rate=invscaling, eta0=0.1, CV AUROC=0.8627 ± 0.0351\n"
     ]
    },
    {
     "name": "stderr",
     "output_type": "stream",
     "text": [
      " 46%|███████████████████████████████████████████████████████████████████████████████████████████████▎                                                                                                                | 66/144 [00:23<00:23,  3.32it/s]"
     ]
    },
    {
     "name": "stdout",
     "output_type": "stream",
     "text": [
      "Parameters: alpha=0.001, penalty=elasticnet, learning_rate=invscaling, eta0=1, CV AUROC=0.8667 ± 0.0351\n",
      "Parameters: alpha=0.001, penalty=elasticnet, learning_rate=constant, eta0=0.01, CV AUROC=0.8612 ± 0.0347\n"
     ]
    },
    {
     "name": "stderr",
     "output_type": "stream",
     "text": [
      " 47%|██████████████████████████████████████████████████████████████████████████████████████████████████▏                                                                                                             | 68/144 [00:24<00:22,  3.45it/s]"
     ]
    },
    {
     "name": "stdout",
     "output_type": "stream",
     "text": [
      "Parameters: alpha=0.001, penalty=elasticnet, learning_rate=constant, eta0=0.1, CV AUROC=0.7905 ± 0.0498\n"
     ]
    },
    {
     "name": "stderr",
     "output_type": "stream",
     "text": [
      " 48%|███████████████████████████████████████████████████████████████████████████████████████████████████▋                                                                                                            | 69/144 [00:24<00:25,  2.98it/s]"
     ]
    },
    {
     "name": "stdout",
     "output_type": "stream",
     "text": [
      "Parameters: alpha=0.001, penalty=elasticnet, learning_rate=constant, eta0=1, CV AUROC=0.7304 ± 0.0471\n"
     ]
    },
    {
     "name": "stderr",
     "output_type": "stream",
     "text": [
      " 49%|█████████████████████████████████████████████████████████████████████████████████████████████████████                                                                                                           | 70/144 [00:25<00:29,  2.51it/s]"
     ]
    },
    {
     "name": "stdout",
     "output_type": "stream",
     "text": [
      "Parameters: alpha=0.001, penalty=elasticnet, learning_rate=adaptive, eta0=0.01, CV AUROC=0.8678 ± 0.0358\n"
     ]
    },
    {
     "name": "stderr",
     "output_type": "stream",
     "text": [
      " 49%|██████████████████████████████████████████████████████████████████████████████████████████████████████▌                                                                                                         | 71/144 [00:26<00:40,  1.81it/s]"
     ]
    },
    {
     "name": "stdout",
     "output_type": "stream",
     "text": [
      "Parameters: alpha=0.001, penalty=elasticnet, learning_rate=adaptive, eta0=0.1, CV AUROC=0.8664 ± 0.0362\n"
     ]
    },
    {
     "name": "stderr",
     "output_type": "stream",
     "text": [
      " 50%|████████████████████████████████████████████████████████████████████████████████████████████████████████                                                                                                        | 72/144 [00:27<00:55,  1.31it/s]"
     ]
    },
    {
     "name": "stdout",
     "output_type": "stream",
     "text": [
      "Parameters: alpha=0.001, penalty=elasticnet, learning_rate=adaptive, eta0=1, CV AUROC=0.8651 ± 0.0384\n"
     ]
    },
    {
     "name": "stderr",
     "output_type": "stream",
     "text": [
      " 51%|█████████████████████████████████████████████████████████████████████████████████████████████████████████▍                                                                                                      | 73/144 [00:27<00:45,  1.54it/s]"
     ]
    },
    {
     "name": "stdout",
     "output_type": "stream",
     "text": [
      "Parameters: alpha=0.01, penalty=l2, learning_rate=optimal, eta0=N/A, CV AUROC=0.8545 ± 0.0464\n"
     ]
    },
    {
     "name": "stderr",
     "output_type": "stream",
     "text": [
      " 53%|███████████████████████████████████████████████████████████████████████████████████████████████████████████████▏                                                                                                | 77/144 [00:28<00:19,  3.47it/s]"
     ]
    },
    {
     "name": "stdout",
     "output_type": "stream",
     "text": [
      "Parameters: alpha=0.01, penalty=l2, learning_rate=invscaling, eta0=0.01, CV AUROC=0.8308 ± 0.0414\n",
      "Parameters: alpha=0.01, penalty=l2, learning_rate=invscaling, eta0=0.1, CV AUROC=0.8584 ± 0.0358\n",
      "Parameters: alpha=0.01, penalty=l2, learning_rate=invscaling, eta0=1, CV AUROC=0.8582 ± 0.0314\n"
     ]
    },
    {
     "name": "stderr",
     "output_type": "stream",
     "text": [
      " 56%|█████████████████████████████████████████████████████████████████████████████████████████████████████████████████████                                                                                           | 81/144 [00:28<00:10,  6.06it/s]"
     ]
    },
    {
     "name": "stdout",
     "output_type": "stream",
     "text": [
      "Parameters: alpha=0.01, penalty=l2, learning_rate=constant, eta0=0.01, CV AUROC=0.8471 ± 0.0329\n",
      "Parameters: alpha=0.01, penalty=l2, learning_rate=constant, eta0=0.1, CV AUROC=0.7147 ± 0.0755\n",
      "Parameters: alpha=0.01, penalty=l2, learning_rate=constant, eta0=1, CV AUROC=0.5901 ± 0.1024\n"
     ]
    },
    {
     "name": "stderr",
     "output_type": "stream",
     "text": [
      " 57%|██████████████████████████████████████████████████████████████████████████████████████████████████████████████████████▍                                                                                         | 82/144 [00:28<00:11,  5.52it/s]"
     ]
    },
    {
     "name": "stdout",
     "output_type": "stream",
     "text": [
      "Parameters: alpha=0.01, penalty=l2, learning_rate=adaptive, eta0=0.01, CV AUROC=0.8645 ± 0.0376\n"
     ]
    },
    {
     "name": "stderr",
     "output_type": "stream",
     "text": [
      " 58%|███████████████████████████████████████████████████████████████████████████████████████████████████████████████████████▉                                                                                        | 83/144 [00:29<00:13,  4.59it/s]"
     ]
    },
    {
     "name": "stdout",
     "output_type": "stream",
     "text": [
      "Parameters: alpha=0.01, penalty=l2, learning_rate=adaptive, eta0=0.1, CV AUROC=0.8638 ± 0.0378\n"
     ]
    },
    {
     "name": "stderr",
     "output_type": "stream",
     "text": [
      " 58%|█████████████████████████████████████████████████████████████████████████████████████████████████████████████████████████▎                                                                                      | 84/144 [00:29<00:15,  3.87it/s]"
     ]
    },
    {
     "name": "stdout",
     "output_type": "stream",
     "text": [
      "Parameters: alpha=0.01, penalty=l2, learning_rate=adaptive, eta0=1, CV AUROC=0.8641 ± 0.0379\n"
     ]
    },
    {
     "name": "stderr",
     "output_type": "stream",
     "text": [
      " 59%|██████████████████████████████████████████████████████████████████████████████████████████████████████████████████████████▊                                                                                     | 85/144 [00:31<00:39,  1.51it/s]"
     ]
    },
    {
     "name": "stdout",
     "output_type": "stream",
     "text": [
      "Parameters: alpha=0.01, penalty=l1, learning_rate=optimal, eta0=N/A, CV AUROC=0.8047 ± 0.0259\n"
     ]
    },
    {
     "name": "stderr",
     "output_type": "stream",
     "text": [
      " 61%|███████████████████████████████████████████████████████████████████████████████████████████████████████████████████████████████                                                                                 | 88/144 [00:32<00:25,  2.22it/s]"
     ]
    },
    {
     "name": "stdout",
     "output_type": "stream",
     "text": [
      "Parameters: alpha=0.01, penalty=l1, learning_rate=invscaling, eta0=0.01, CV AUROC=0.7836 ± 0.0392\n"
     ]
    },
    {
     "name": "stderr",
     "output_type": "stream",
     "text": [
      " 62%|████████████████████████████████████████████████████████████████████████████████████████████████████████████████████████████████▌                                                                               | 89/144 [00:32<00:22,  2.42it/s]"
     ]
    },
    {
     "name": "stdout",
     "output_type": "stream",
     "text": [
      "Parameters: alpha=0.01, penalty=l1, learning_rate=invscaling, eta0=0.1, CV AUROC=0.8090 ± 0.0357\n",
      "Parameters: alpha=0.01, penalty=l1, learning_rate=invscaling, eta0=1, CV AUROC=0.8179 ± 0.0332\n"
     ]
    },
    {
     "name": "stderr",
     "output_type": "stream",
     "text": [
      " 63%|███████████████████████████████████████████████████████████████████████████████████████████████████████████████████████████████████▍                                                                            | 91/144 [00:32<00:17,  3.05it/s]"
     ]
    },
    {
     "name": "stdout",
     "output_type": "stream",
     "text": [
      "Parameters: alpha=0.01, penalty=l1, learning_rate=constant, eta0=0.01, CV AUROC=0.8153 ± 0.0345\n"
     ]
    },
    {
     "name": "stderr",
     "output_type": "stream",
     "text": [
      " 64%|████████████████████████████████████████████████████████████████████████████████████████████████████████████████████████████████████▉                                                                           | 92/144 [00:33<00:16,  3.22it/s]"
     ]
    },
    {
     "name": "stdout",
     "output_type": "stream",
     "text": [
      "Parameters: alpha=0.01, penalty=l1, learning_rate=constant, eta0=0.1, CV AUROC=0.7603 ± 0.0304\n"
     ]
    },
    {
     "name": "stderr",
     "output_type": "stream",
     "text": [
      " 65%|██████████████████████████████████████████████████████████████████████████████████████████████████████████████████████████████████████▎                                                                         | 93/144 [00:33<00:15,  3.33it/s]"
     ]
    },
    {
     "name": "stdout",
     "output_type": "stream",
     "text": [
      "Parameters: alpha=0.01, penalty=l1, learning_rate=constant, eta0=1, CV AUROC=0.6716 ± 0.0480\n"
     ]
    },
    {
     "name": "stderr",
     "output_type": "stream",
     "text": [
      " 65%|███████████████████████████████████████████████████████████████████████████████████████████████████████████████████████████████████████▊                                                                        | 94/144 [00:34<00:22,  2.23it/s]"
     ]
    },
    {
     "name": "stdout",
     "output_type": "stream",
     "text": [
      "Parameters: alpha=0.01, penalty=l1, learning_rate=adaptive, eta0=0.01, CV AUROC=0.8156 ± 0.0356\n"
     ]
    },
    {
     "name": "stderr",
     "output_type": "stream",
     "text": [
      " 66%|█████████████████████████████████████████████████████████████████████████████████████████████████████████████████████████████████████████▏                                                                      | 95/144 [00:35<00:31,  1.53it/s]"
     ]
    },
    {
     "name": "stdout",
     "output_type": "stream",
     "text": [
      "Parameters: alpha=0.01, penalty=l1, learning_rate=adaptive, eta0=0.1, CV AUROC=0.8151 ± 0.0355\n"
     ]
    },
    {
     "name": "stderr",
     "output_type": "stream",
     "text": [
      " 67%|██████████████████████████████████████████████████████████████████████████████████████████████████████████████████████████████████████████▋                                                                     | 96/144 [00:36<00:42,  1.13it/s]"
     ]
    },
    {
     "name": "stdout",
     "output_type": "stream",
     "text": [
      "Parameters: alpha=0.01, penalty=l1, learning_rate=adaptive, eta0=1, CV AUROC=0.8147 ± 0.0358\n"
     ]
    },
    {
     "name": "stderr",
     "output_type": "stream",
     "text": [
      " 67%|████████████████████████████████████████████████████████████████████████████████████████████████████████████████████████████████████████████                                                                    | 97/144 [00:37<00:39,  1.20it/s]"
     ]
    },
    {
     "name": "stdout",
     "output_type": "stream",
     "text": [
      "Parameters: alpha=0.01, penalty=elasticnet, learning_rate=optimal, eta0=N/A, CV AUROC=0.8512 ± 0.0446\n"
     ]
    },
    {
     "name": "stderr",
     "output_type": "stream",
     "text": [
      " 69%|███████████████████████████████████████████████████████████████████████████████████████████████████████████████████████████████████████████████▊                                                               | 100/144 [00:38<00:20,  2.13it/s]"
     ]
    },
    {
     "name": "stdout",
     "output_type": "stream",
     "text": [
      "Parameters: alpha=0.01, penalty=elasticnet, learning_rate=invscaling, eta0=0.01, CV AUROC=0.8232 ± 0.0429\n",
      "Parameters: alpha=0.01, penalty=elasticnet, learning_rate=invscaling, eta0=0.1, CV AUROC=0.8507 ± 0.0364\n"
     ]
    },
    {
     "name": "stderr",
     "output_type": "stream",
     "text": [
      " 72%|████████████████████████████████████████████████████████████████████████████████████████████████████████████████████████████████████████████████████                                                           | 103/144 [00:38<00:12,  3.22it/s]"
     ]
    },
    {
     "name": "stdout",
     "output_type": "stream",
     "text": [
      "Parameters: alpha=0.01, penalty=elasticnet, learning_rate=invscaling, eta0=1, CV AUROC=0.8577 ± 0.0315\n",
      "Parameters: alpha=0.01, penalty=elasticnet, learning_rate=constant, eta0=0.01, CV AUROC=0.8466 ± 0.0347\n"
     ]
    },
    {
     "name": "stderr",
     "output_type": "stream",
     "text": [
      " 72%|█████████████████████████████████████████████████████████████████████████████████████████████████████████████████████████████████████████████████████▌                                                         | 104/144 [00:38<00:12,  3.28it/s]"
     ]
    },
    {
     "name": "stdout",
     "output_type": "stream",
     "text": [
      "Parameters: alpha=0.01, penalty=elasticnet, learning_rate=constant, eta0=0.1, CV AUROC=0.7817 ± 0.0485\n"
     ]
    },
    {
     "name": "stderr",
     "output_type": "stream",
     "text": [
      " 73%|██████████████████████████████████████████████████████████████████████████████████████████████████████████████████████████████████████████████████████▉                                                        | 105/144 [00:39<00:12,  3.22it/s]"
     ]
    },
    {
     "name": "stdout",
     "output_type": "stream",
     "text": [
      "Parameters: alpha=0.01, penalty=elasticnet, learning_rate=constant, eta0=1, CV AUROC=0.7053 ± 0.0318\n"
     ]
    },
    {
     "name": "stderr",
     "output_type": "stream",
     "text": [
      " 74%|████████████████████████████████████████████████████████████████████████████████████████████████████████████████████████████████████████████████████████▍                                                      | 106/144 [00:39<00:14,  2.65it/s]"
     ]
    },
    {
     "name": "stdout",
     "output_type": "stream",
     "text": [
      "Parameters: alpha=0.01, penalty=elasticnet, learning_rate=adaptive, eta0=0.01, CV AUROC=0.8590 ± 0.0378\n"
     ]
    },
    {
     "name": "stderr",
     "output_type": "stream",
     "text": [
      " 74%|█████████████████████████████████████████████████████████████████████████████████████████████████████████████████████████████████████████████████████████▊                                                     | 107/144 [00:40<00:19,  1.88it/s]"
     ]
    },
    {
     "name": "stdout",
     "output_type": "stream",
     "text": [
      "Parameters: alpha=0.01, penalty=elasticnet, learning_rate=adaptive, eta0=0.1, CV AUROC=0.8583 ± 0.0375\n"
     ]
    },
    {
     "name": "stderr",
     "output_type": "stream",
     "text": [
      " 75%|███████████████████████████████████████████████████████████████████████████████████████████████████████████████████████████████████████████████████████████▎                                                   | 108/144 [00:41<00:26,  1.34it/s]"
     ]
    },
    {
     "name": "stdout",
     "output_type": "stream",
     "text": [
      "Parameters: alpha=0.01, penalty=elasticnet, learning_rate=adaptive, eta0=1, CV AUROC=0.8519 ± 0.0406\n",
      "Parameters: alpha=0.1, penalty=l2, learning_rate=optimal, eta0=N/A, CV AUROC=0.8057 ± 0.0522\n"
     ]
    },
    {
     "name": "stderr",
     "output_type": "stream",
     "text": [
      " 79%|███████████████████████████████████████████████████████████████████████████████████████████████████████████████████████████████████████████████████████████████████▉                                           | 114/144 [00:42<00:07,  3.86it/s]"
     ]
    },
    {
     "name": "stdout",
     "output_type": "stream",
     "text": [
      "Parameters: alpha=0.1, penalty=l2, learning_rate=invscaling, eta0=0.01, CV AUROC=0.8160 ± 0.0454\n",
      "Parameters: alpha=0.1, penalty=l2, learning_rate=invscaling, eta0=0.1, CV AUROC=0.8184 ± 0.0454\n",
      "Parameters: alpha=0.1, penalty=l2, learning_rate=invscaling, eta0=1, CV AUROC=0.8095 ± 0.0391\n"
     ]
    },
    {
     "name": "stderr",
     "output_type": "stream",
     "text": [
      " 81%|██████████████████████████████████████████████████████████████████████████████████████████████████████████████████████████████████████████████████████████████████████▊                                        | 116/144 [00:42<00:05,  5.00it/s]"
     ]
    },
    {
     "name": "stdout",
     "output_type": "stream",
     "text": [
      "Parameters: alpha=0.1, penalty=l2, learning_rate=constant, eta0=0.01, CV AUROC=0.7726 ± 0.0494\n",
      "Parameters: alpha=0.1, penalty=l2, learning_rate=constant, eta0=0.1, CV AUROC=0.6289 ± 0.1052\n",
      "Parameters: alpha=0.1, penalty=l2, learning_rate=constant, eta0=1, CV AUROC=0.6112 ± 0.0793\n"
     ]
    },
    {
     "name": "stderr",
     "output_type": "stream",
     "text": [
      " 82%|█████████████████████████████████████████████████████████████████████████████████████████████████████████████████████████████████████████████████████████████████████████▋                                     | 118/144 [00:42<00:04,  5.33it/s]"
     ]
    },
    {
     "name": "stdout",
     "output_type": "stream",
     "text": [
      "Parameters: alpha=0.1, penalty=l2, learning_rate=adaptive, eta0=0.01, CV AUROC=0.8165 ± 0.0483\n"
     ]
    },
    {
     "name": "stderr",
     "output_type": "stream",
     "text": [
      " 83%|███████████████████████████████████████████████████████████████████████████████████████████████████████████████████████████████████████████████████████████████████████████                                    | 119/144 [00:43<00:05,  4.72it/s]"
     ]
    },
    {
     "name": "stdout",
     "output_type": "stream",
     "text": [
      "Parameters: alpha=0.1, penalty=l2, learning_rate=adaptive, eta0=0.1, CV AUROC=0.8161 ± 0.0487\n"
     ]
    },
    {
     "name": "stderr",
     "output_type": "stream",
     "text": [
      " 83%|████████████████████████████████████████████████████████████████████████████████████████████████████████████████████████████████████████████████████████████████████████████▌                                  | 120/144 [00:43<00:06,  3.98it/s]"
     ]
    },
    {
     "name": "stdout",
     "output_type": "stream",
     "text": [
      "Parameters: alpha=0.1, penalty=l2, learning_rate=adaptive, eta0=1, CV AUROC=0.8163 ± 0.0486\n"
     ]
    },
    {
     "name": "stderr",
     "output_type": "stream",
     "text": [
      " 84%|█████████████████████████████████████████████████████████████████████████████████████████████████████████████████████████████████████████████████████████████████████████████▉                                 | 121/144 [00:43<00:05,  3.95it/s]"
     ]
    },
    {
     "name": "stdout",
     "output_type": "stream",
     "text": [
      "Parameters: alpha=0.1, penalty=l1, learning_rate=optimal, eta0=N/A, CV AUROC=0.5000 ± 0.0000\n"
     ]
    },
    {
     "name": "stderr",
     "output_type": "stream",
     "text": [
      " 86%|██████████████████████████████████████████████████████████████████████████████████████████████████████████████████████████████████████████████████████████████████████████████████▎                            | 124/144 [00:44<00:05,  3.48it/s]"
     ]
    },
    {
     "name": "stdout",
     "output_type": "stream",
     "text": [
      "Parameters: alpha=0.1, penalty=l1, learning_rate=invscaling, eta0=0.01, CV AUROC=0.5000 ± 0.0000\n"
     ]
    },
    {
     "name": "stderr",
     "output_type": "stream",
     "text": [
      " 87%|███████████████████████████████████████████████████████████████████████████████████████████████████████████████████████████████████████████████████████████████████████████████████▋                           | 125/144 [00:45<00:05,  3.60it/s]"
     ]
    },
    {
     "name": "stdout",
     "output_type": "stream",
     "text": [
      "Parameters: alpha=0.1, penalty=l1, learning_rate=invscaling, eta0=0.1, CV AUROC=0.5000 ± 0.0000\n",
      "Parameters: alpha=0.1, penalty=l1, learning_rate=invscaling, eta0=1, CV AUROC=0.5000 ± 0.0000\n"
     ]
    },
    {
     "name": "stderr",
     "output_type": "stream",
     "text": [
      " 89%|████████████████████████████████████████████████████████████████████████████████████████████████████████████████████████████████████████████████████████████████████████████████████████                       | 128/144 [00:45<00:03,  4.39it/s]"
     ]
    },
    {
     "name": "stdout",
     "output_type": "stream",
     "text": [
      "Parameters: alpha=0.1, penalty=l1, learning_rate=constant, eta0=0.01, CV AUROC=0.5000 ± 0.0000\n",
      "Parameters: alpha=0.1, penalty=l1, learning_rate=constant, eta0=0.1, CV AUROC=0.5000 ± 0.0000\n"
     ]
    },
    {
     "name": "stderr",
     "output_type": "stream",
     "text": [
      " 90%|█████████████████████████████████████████████████████████████████████████████████████████████████████████████████████████████████████████████████████████████████████████████████████████▍                     | 129/144 [00:45<00:03,  4.44it/s]"
     ]
    },
    {
     "name": "stdout",
     "output_type": "stream",
     "text": [
      "Parameters: alpha=0.1, penalty=l1, learning_rate=constant, eta0=1, CV AUROC=0.5000 ± 0.0000\n"
     ]
    },
    {
     "name": "stderr",
     "output_type": "stream",
     "text": [
      " 90%|██████████████████████████████████████████████████████████████████████████████████████████████████████████████████████████████████████████████████████████████████████████████████████████▉                    | 130/144 [00:46<00:05,  2.56it/s]"
     ]
    },
    {
     "name": "stdout",
     "output_type": "stream",
     "text": [
      "Parameters: alpha=0.1, penalty=l1, learning_rate=adaptive, eta0=0.01, CV AUROC=0.5000 ± 0.0000\n"
     ]
    },
    {
     "name": "stderr",
     "output_type": "stream",
     "text": [
      " 91%|████████████████████████████████████████████████████████████████████████████████████████████████████████████████████████████████████████████████████████████████████████████████████████████▎                  | 131/144 [00:47<00:07,  1.72it/s]"
     ]
    },
    {
     "name": "stdout",
     "output_type": "stream",
     "text": [
      "Parameters: alpha=0.1, penalty=l1, learning_rate=adaptive, eta0=0.1, CV AUROC=0.5000 ± 0.0000\n"
     ]
    },
    {
     "name": "stderr",
     "output_type": "stream",
     "text": [
      " 92%|█████████████████████████████████████████████████████████████████████████████████████████████████████████████████████████████████████████████████████████████████████████████████████████████▊                 | 132/144 [00:49<00:09,  1.29it/s]"
     ]
    },
    {
     "name": "stdout",
     "output_type": "stream",
     "text": [
      "Parameters: alpha=0.1, penalty=l1, learning_rate=adaptive, eta0=1, CV AUROC=0.5000 ± 0.0000\n"
     ]
    },
    {
     "name": "stderr",
     "output_type": "stream",
     "text": [
      " 92%|███████████████████████████████████████████████████████████████████████████████████████████████████████████████████████████████████████████████████████████████████████████████████████████████▏               | 133/144 [00:49<00:06,  1.59it/s]"
     ]
    },
    {
     "name": "stdout",
     "output_type": "stream",
     "text": [
      "Parameters: alpha=0.1, penalty=elasticnet, learning_rate=optimal, eta0=N/A, CV AUROC=0.7321 ± 0.0497\n"
     ]
    },
    {
     "name": "stderr",
     "output_type": "stream",
     "text": [
      " 94%|███████████████████████████████████████████████████████████████████████████████████████████████████████████████████████████████████████████████████████████████████████████████████████████████████▌           | 136/144 [00:50<00:03,  2.26it/s]"
     ]
    },
    {
     "name": "stdout",
     "output_type": "stream",
     "text": [
      "Parameters: alpha=0.1, penalty=elasticnet, learning_rate=invscaling, eta0=0.01, CV AUROC=0.7562 ± 0.0402\n"
     ]
    },
    {
     "name": "stderr",
     "output_type": "stream",
     "text": [
      " 95%|████████████████████████████████████████████████████████████████████████████████████████████████████████████████████████████████████████████████████████████████████████████████████████████████████▉          | 137/144 [00:50<00:02,  2.44it/s]"
     ]
    },
    {
     "name": "stdout",
     "output_type": "stream",
     "text": [
      "Parameters: alpha=0.1, penalty=elasticnet, learning_rate=invscaling, eta0=0.1, CV AUROC=0.7590 ± 0.0400\n",
      "Parameters: alpha=0.1, penalty=elasticnet, learning_rate=invscaling, eta0=1, CV AUROC=0.7605 ± 0.0399\n"
     ]
    },
    {
     "name": "stderr",
     "output_type": "stream",
     "text": [
      " 97%|███████████████████████████████████████████████████████████████████████████████████████████████████████████████████████████████████████████████████████████████████████████████████████████████████████▊       | 139/144 [00:50<00:01,  3.08it/s]"
     ]
    },
    {
     "name": "stdout",
     "output_type": "stream",
     "text": [
      "Parameters: alpha=0.1, penalty=elasticnet, learning_rate=constant, eta0=0.01, CV AUROC=0.7676 ± 0.0503\n"
     ]
    },
    {
     "name": "stderr",
     "output_type": "stream",
     "text": [
      " 97%|█████████████████████████████████████████████████████████████████████████████████████████████████████████████████████████████████████████████████████████████████████████████████████████████████████████▎     | 140/144 [00:51<00:01,  3.28it/s]"
     ]
    },
    {
     "name": "stdout",
     "output_type": "stream",
     "text": [
      "Parameters: alpha=0.1, penalty=elasticnet, learning_rate=constant, eta0=0.1, CV AUROC=0.7100 ± 0.0337\n"
     ]
    },
    {
     "name": "stderr",
     "output_type": "stream",
     "text": [
      " 98%|██████████████████████████████████████████████████████████████████████████████████████████████████████████████████████████████████████████████████████████████████████████████████████████████████████████▋    | 141/144 [00:51<00:00,  3.44it/s]"
     ]
    },
    {
     "name": "stdout",
     "output_type": "stream",
     "text": [
      "Parameters: alpha=0.1, penalty=elasticnet, learning_rate=constant, eta0=1, CV AUROC=0.6062 ± 0.0920\n"
     ]
    },
    {
     "name": "stderr",
     "output_type": "stream",
     "text": [
      " 99%|████████████████████████████████████████████████████████████████████████████████████████████████████████████████████████████████████████████████████████████████████████████████████████████████████████████▏  | 142/144 [00:52<00:00,  2.23it/s]"
     ]
    },
    {
     "name": "stdout",
     "output_type": "stream",
     "text": [
      "Parameters: alpha=0.1, penalty=elasticnet, learning_rate=adaptive, eta0=0.01, CV AUROC=0.7584 ± 0.0410\n"
     ]
    },
    {
     "name": "stderr",
     "output_type": "stream",
     "text": [
      " 99%|█████████████████████████████████████████████████████████████████████████████████████████████████████████████████████████████████████████████████████████████████████████████████████████████████████████████▌ | 143/144 [00:53<00:00,  1.53it/s]"
     ]
    },
    {
     "name": "stdout",
     "output_type": "stream",
     "text": [
      "Parameters: alpha=0.1, penalty=elasticnet, learning_rate=adaptive, eta0=0.1, CV AUROC=0.7591 ± 0.0404\n"
     ]
    },
    {
     "name": "stderr",
     "output_type": "stream",
     "text": [
      "100%|███████████████████████████████████████████████████████████████████████████████████████████████████████████████████████████████████████████████████████████████████████████████████████████████████████████████| 144/144 [00:54<00:00,  2.62it/s]"
     ]
    },
    {
     "name": "stdout",
     "output_type": "stream",
     "text": [
      "Parameters: alpha=0.1, penalty=elasticnet, learning_rate=adaptive, eta0=1, CV AUROC=0.7584 ± 0.0411\n",
      "\n",
      "Top 5 parameter combinations:\n",
      "    alpha     penalty learning_rate  eta0  mean_auroc  std_auroc\n",
      "57  0.001  elasticnet      adaptive  0.01    0.867796   0.035764\n",
      "43  0.001          l1    invscaling     1    0.867742   0.034456\n",
      "48  0.001          l1      adaptive   0.1    0.867223   0.035678\n",
      "47  0.001          l1      adaptive  0.01    0.867160   0.035942\n",
      "53  0.001  elasticnet    invscaling     1    0.866736   0.035055\n",
      "\n",
      "Best Parameters: {'alpha': 0.001, 'penalty': 'elasticnet', 'learning_rate': 'adaptive', 'eta0': 0.01}\n",
      "Best Cross-Validation AUROC: 0.8678\n",
      "Best model saved as 'best_sgd_model.pkl'\n"
     ]
    },
    {
     "name": "stderr",
     "output_type": "stream",
     "text": [
      "\n"
     ]
    },
    {
     "data": {
      "image/png": "[encoded data removed]",
      "text/plain": [
       "<Figure size 1200x800 with 2 Axes>"
      ]
     },
     "metadata": {},
     "output_type": "display_data"
    }
   ],
   "source": [
    "from sklearn.linear_model import SGDClassifier\n",
    "from sklearn.metrics import roc_auc_score\n",
    "from sklearn.model_selection import StratifiedKFold\n",
    "import numpy as np\n",
    "from tqdm import tqdm\n",
    "import pandas as pd\n",
    "\n",
    "print(\"Hyperparameter Tuning with 10-Fold Cross-Validation\")\n",
    "best_mean_auroc = 0\n",
    "best_params = {}\n",
    "best_model = None\n",
    "\n",
    "# Define cross-validation strategy\n",
    "cv = StratifiedKFold(n_splits=10, shuffle=True, random_state=42)\n",
    "\n",
    "# Parameter grid\n",
    "alpha_values = [0.0001, 0.001, 0.01, 0.1]  # Regularization strength\n",
    "penalty_values = ['l2', 'l1', 'elasticnet']  # Regularization type\n",
    "learning_rate_values = ['optimal', 'invscaling', 'constant', 'adaptive']  # Learning rate schedule\n",
    "eta0_values = [0.01, 0.1, 1]  # Initial learning rate, must be > 0\n",
    "\n",
    "# Calculate total number of parameter combinations\n",
    "total_combinations = len(alpha_values) * len(penalty_values) * len(learning_rate_values) * len(eta0_values)\n",
    "print(f\"Searching for optimal hyperparameters across {total_combinations} combinations...\")\n",
    "\n",
    "# Store results for later analysis\n",
    "results_list = []\n",
    "\n",
    "# Use tqdm for progress tracking\n",
    "pbar = tqdm(total=total_combinations)\n",
    "\n",
    "for alpha in alpha_values:\n",
    "    for penalty in penalty_values:\n",
    "        for learning_rate in learning_rate_values:\n",
    "            for eta0 in eta0_values:\n",
    "                # Skip combinations where eta0 is not needed\n",
    "                if learning_rate == 'optimal' and eta0 != eta0_values[0]:\n",
    "                    pbar.update(1)\n",
    "                    continue\n",
    "                \n",
    "                # Ensure eta0 is used only when necessary\n",
    "                params = {\n",
    "                    'loss': 'log_loss', 'alpha': alpha, 'penalty': penalty,\n",
    "                    'max_iter': 1000, 'tol': 1e-3, 'learning_rate': learning_rate,\n",
    "                    'random_state': 42\n",
    "                }\n",
    "                \n",
    "                # eta0 is required for 'constant', 'invscaling', and 'adaptive' learning rates\n",
    "                if learning_rate in ['constant', 'invscaling', 'adaptive']:\n",
    "                    params['eta0'] = eta0\n",
    "                \n",
    "                try:\n",
    "                    # List to store AUROC scores for each fold\n",
    "                    fold_aurocs = []\n",
    "                    \n",
    "                    # Perform cross-validation\n",
    "                    for train_idx, val_idx in cv.split(X_train, y_train):\n",
    "                        # Split data for this fold\n",
    "                        X_fold_train, X_fold_val = X_train[train_idx], X_train[val_idx]\n",
    "                        y_fold_train, y_fold_val = y_train[train_idx], y_train[val_idx]\n",
    "                        \n",
    "                        # Create and train SGD Logistic Regression model with current parameters\n",
    "                        current_sgd = SGDClassifier(**params)\n",
    "                        current_sgd.fit(X_fold_train, y_fold_train)\n",
    "                        \n",
    "                        # Evaluate on validation fold using AUROC\n",
    "                        val_probas = current_sgd.predict_proba(X_fold_val)[:, 1]  # Get positive class probabilities\n",
    "                        auroc_val = roc_auc_score(y_fold_val, val_probas)\n",
    "                        fold_aurocs.append(auroc_val)\n",
    "                    \n",
    "                    # Calculate mean and standard deviation across folds\n",
    "                    mean_auroc = np.mean(fold_aurocs)\n",
    "                    std_auroc = np.std(fold_aurocs)\n",
    "                    \n",
    "                    eta0_text = eta0 if learning_rate in ['constant', 'invscaling', 'adaptive'] else 'N/A'\n",
    "                    print(f\"Parameters: alpha={alpha}, penalty={penalty}, learning_rate={learning_rate}, eta0={eta0_text}, CV AUROC={mean_auroc:.4f} ± {std_auroc:.4f}\")\n",
    "                    \n",
    "                    # Store results\n",
    "                    results_list.append({\n",
    "                        'alpha': alpha,\n",
    "                        'penalty': penalty,\n",
    "                        'learning_rate': learning_rate,\n",
    "                        'eta0': eta0_text,\n",
    "                        'mean_auroc': mean_auroc,\n",
    "                        'std_auroc': std_auroc\n",
    "                    })\n",
    "                    \n",
    "                    # Track best model based on mean AUROC\n",
    "                    if mean_auroc > best_mean_auroc:\n",
    "                        best_mean_auroc = mean_auroc\n",
    "                        best_params = {\n",
    "                            'alpha': alpha,\n",
    "                            'penalty': penalty,\n",
    "                            'learning_rate': learning_rate,\n",
    "                            'eta0': eta0_text if eta0_text != 'N/A' else None\n",
    "                        }\n",
    "                \n",
    "                except Exception as e:\n",
    "                    print(f\"Error with parameters: alpha={alpha}, penalty={penalty}, learning_rate={learning_rate}, eta0={eta0 if learning_rate in ['constant', 'invscaling', 'adaptive'] else 'N/A'}\")\n",
    "                    print(f\"Error message: {str(e)}\")\n",
    "                \n",
    "                # Update progress bar\n",
    "                pbar.update(1)\n",
    "\n",
    "pbar.close()\n",
    "\n",
    "# Convert results to DataFrame for easier analysis\n",
    "results_df = pd.DataFrame(results_list)\n",
    "print(\"\\nTop 5 parameter combinations:\")\n",
    "print(results_df.sort_values('mean_auroc', ascending=False).head(5))\n",
    "\n",
    "# Create final model with best parameters\n",
    "final_params = {\n",
    "    'loss': 'log_loss', \n",
    "    'alpha': best_params['alpha'], \n",
    "    'penalty': best_params['penalty'],\n",
    "    'learning_rate': best_params['learning_rate'],\n",
    "    'max_iter': 1000, \n",
    "    'tol': 1e-3,\n",
    "    'random_state': 42\n",
    "}\n",
    "\n",
    "if best_params['eta0'] is not None:\n",
    "    final_params['eta0'] = best_params['eta0']\n",
    "\n",
    "print(f\"\\nBest Parameters: {best_params}\")\n",
    "print(f\"Best Cross-Validation AUROC: {best_mean_auroc:.4f}\")\n",
    "\n",
    "# Train final model with best parameters on the full training set\n",
    "best_model = SGDClassifier(**final_params)\n",
    "best_model.fit(X_train, y_train)\n",
    "\n",
    "# If you want to evaluate the best model on a test set (if available)\n",
    "if 'X_test' in locals() and 'y_test' in locals():\n",
    "    test_probas = best_model.predict_proba(X_test)[:, 1]\n",
    "    test_auroc = roc_auc_score(y_test, test_probas)\n",
    "    print(f\"Test set AUROC for best model: {test_auroc:.4f}\")\n",
    "\n",
    "# Save the best model\n",
    "import joblib\n",
    "joblib.dump(best_model, 'best_sgd_model.pkl')\n",
    "print(\"Best model saved as 'best_sgd_model.pkl'\")\n",
    "\n",
    "# Use the best model found\n",
    "clf = best_model\n",
    "\n",
    "# Optionally, plot heatmap of performances\n",
    "import matplotlib.pyplot as plt\n",
    "import seaborn as sns\n",
    "\n",
    "# Create pivot table of mean AUROC scores grouped by alpha and penalty\n",
    "plt.figure(figsize=(12, 8))\n",
    "pivot = results_df.pivot_table(\n",
    "    index='alpha', \n",
    "    columns='penalty',\n",
    "    values='mean_auroc',\n",
    "    aggfunc='max'  # Max AUROC across learning_rate and eta0 values\n",
    ")\n",
    "sns.heatmap(pivot, annot=True, cmap='viridis', fmt='.4f')\n",
    "plt.title('Max Cross-Validation AUROC by Alpha and Penalty')\n",
    "plt.savefig('sgd_performance_heatmap.png')"
   ]
  },
  {
   "cell_type": "code",
   "execution_count": 8,
   "id": "edffce6a-f09c-4152-8a0e-3b3ee7d0d101",
   "metadata": {},
   "outputs": [
    {
     "data": {
      "image/png": "[encoded data removed]",
      "text/plain": [
       "<Figure size 500x500 with 1 Axes>"
      ]
     },
     "metadata": {},
     "output_type": "display_data"
    },
    {
     "name": "stdout",
     "output_type": "stream",
     "text": [
      "Training AUROC: 0.893 (95% CI: 0.874, 0.910)\n"
     ]
    }
   ],
   "source": [
    "# Predict on training data\n",
    "pred_probas_train = clf.predict_proba(X_train)\n",
    "risk_groups_train = results(pred_probas_train)\n",
    "\n",
    "# Compute ROC curve and area under the curve\n",
    "fpr, tpr, thresholds = roc_curve(y_train, pred_probas_train[:,1])\n",
    "roc_auc = auc(fpr, tpr)\n",
    "plot_ROC_curve(fpr, tpr, roc_auc, 'Training curve: Derivation cohort (ROC curves)')\n",
    "\n",
    "# Compute AUROC CI\n",
    "auroc_ci_lower_train, auroc_ci_upper_train = bootstrap_metric_ci(y_train, pred_probas_train[:,1], \"auroc\")\n",
    "\n",
    "print(f\"Training AUROC: {roc_auc:.3f} (95% CI: {auroc_ci_lower_train:.3f}, {auroc_ci_upper_train:.3f})\")"
   ]
  },
  {
   "cell_type": "code",
   "execution_count": 9,
   "id": "0b29ba9a-3e38-4639-92f9-d79345f7ed68",
   "metadata": {},
   "outputs": [
    {
     "name": "stdout",
     "output_type": "stream",
     "text": [
      "\n",
      "Val\n"
     ]
    },
    {
     "data": {
      "image/png": "[encoded data removed]",
      "text/plain": [
       "<Figure size 500x500 with 1 Axes>"
      ]
     },
     "metadata": {},
     "output_type": "display_data"
    },
    {
     "name": "stdout",
     "output_type": "stream",
     "text": [
      "Val AUROC: 0.864 (95% CI: 0.817, 0.904)\n"
     ]
    }
   ],
   "source": [
    "# Evaluate on validation set\n",
    "print(\"\\nVal\")\n",
    "pred_probas_val = clf.predict_proba(X_val)\n",
    "risk_groups_val = results(pred_probas_val)\n",
    "\n",
    "# Compute ROC curve and area under the curve for validation set\n",
    "fpr_val, tpr_val, thresholds_val = roc_curve(y_val, pred_probas_val[:,1])\n",
    "roc_auc_val = auc(fpr_val, tpr_val)\n",
    "plot_ROC_curve(fpr_val, tpr_val, roc_auc_val, 'Validation curve: Derivation cohort (ROC curves)')\n",
    "\n",
    "# Compute AUROC CI\n",
    "auroc_ci_lower_val, auroc_ci_upper_val = bootstrap_metric_ci(y_val, pred_probas_val[:,1], \"auroc\")\n",
    "\n",
    "print(f\"Val AUROC: {roc_auc_val:.3f} (95% CI: {auroc_ci_lower_val:.3f}, {auroc_ci_upper_val:.3f})\")"
   ]
  },
  {
   "cell_type": "code",
   "execution_count": null,
   "id": "b101cbee-dfd2-434c-b1b4-f1f5997782cf",
   "metadata": {},
   "outputs": [],
   "source": []
  }
 ],
 "metadata": {
  "kernelspec": {
   "display_name": "Python 3 (ipykernel)",
   "language": "python",
   "name": "python3"
  },
  "language_info": {
   "codemirror_mode": {
    "name": "ipython",
    "version": 3
   },
   "file_extension": ".py",
   "mimetype": "text/x-python",
   "name": "python",
   "nbconvert_exporter": "python",
   "pygments_lexer": "ipython3",
   "version": "3.12.8"
  }
 },
 "nbformat": 4,
 "nbformat_minor": 5
}
