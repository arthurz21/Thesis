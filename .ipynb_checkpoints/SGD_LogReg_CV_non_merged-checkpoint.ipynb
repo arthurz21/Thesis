{
 "cells": [
  {
   "cell_type": "code",
   "execution_count": 6,
   "id": "51f44d81-2375-4c29-9ddb-e6454df7cd1b",
   "metadata": {},
   "outputs": [],
   "source": [
    "from sklearn.linear_model import SGDClassifier  # Replaces KNeighborsClassifier\n",
    "from sklearn.model_selection import GridSearchCV\n",
    "import numpy as np\n",
    "import pandas as pd\n",
    "import os\n",
    "from sklearn.metrics import roc_curve, auc, precision_recall_curve, average_precision_score, confusion_matrix, ConfusionMatrixDisplay, classification_report\n",
    "from sklearn.metrics import roc_auc_score\n",
    "from sklearn import preprocessing\n",
    "from sklearn.model_selection import train_test_split\n",
    "import matplotlib.pyplot as plt\n",
    "from sklearn.ensemble import RandomForestClassifier\n",
    "from sklearn.calibration import CalibratedClassifierCV\n",
    "from sklearn.metrics import precision_score, recall_score, f1_score\n",
    "from copy import deepcopy\n",
    "from math import sqrt\n",
    "from sklearn.utils import resample\n",
    "from sklearn.metrics import make_scorer, recall_score\n",
    "from sklearn.pipeline import make_pipeline\n",
    "from sklearn.model_selection import KFold, cross_val_score, cross_val_predict"
   ]
  },
  {
   "cell_type": "code",
   "execution_count": 2,
   "id": "71eba72f-dbcf-4a0f-87cb-e0fce76bc372",
   "metadata": {},
   "outputs": [
    {
     "name": "stderr",
     "output_type": "stream",
     "text": [
      "C:\\Users\\arthu\\AppData\\Local\\Temp\\ipykernel_77720\\1077325655.py:9: FutureWarning: A value is trying to be set on a copy of a DataFrame or Series through chained assignment using an inplace method.\n",
      "The behavior will change in pandas 3.0. This inplace method will never work because the intermediate object on which we are setting values always behaves as a copy.\n",
      "\n",
      "For example, when doing 'df[col].method(value, inplace=True)', try using 'df.method({col: value}, inplace=True)' or df[col] = df[col].method(value) instead, to perform the operation inplace on the original object.\n",
      "\n",
      "\n",
      "  X_train[el].fillna(X_train[el].mode()[0], inplace=True)\n",
      "C:\\Users\\arthu\\AppData\\Local\\Temp\\ipykernel_77720\\1077325655.py:10: FutureWarning: A value is trying to be set on a copy of a DataFrame or Series through chained assignment using an inplace method.\n",
      "The behavior will change in pandas 3.0. This inplace method will never work because the intermediate object on which we are setting values always behaves as a copy.\n",
      "\n",
      "For example, when doing 'df[col].method(value, inplace=True)', try using 'df.method({col: value}, inplace=True)' or df[col] = df[col].method(value) instead, to perform the operation inplace on the original object.\n",
      "\n",
      "\n",
      "  X_val[el].fillna(X_train[el].mode()[0], inplace=True)\n"
     ]
    }
   ],
   "source": [
    "derivation_cohort = pd.read_csv(\"Derivation_dataset.csv\")\n",
    "external_validation_cohort = pd.read_csv(\"External_validation_dataset.csv\")\n",
    "\n",
    "y = derivation_cohort['Outcome_Occlusion_MI']\n",
    "X = derivation_cohort.drop('Outcome_Occlusion_MI', axis=1)\n",
    "X_train, X_val, y_train, y_val = train_test_split(X, y, test_size=0.2, stratify = y, random_state = 99)\n",
    "\n",
    "for el in X_train.columns:\n",
    "    X_train[el].fillna(X_train[el].mode()[0], inplace=True)\n",
    "    X_val[el].fillna(X_train[el].mode()[0], inplace=True)\n",
    "\n",
    "y_train = np.ravel(np.array(y_train.values))\n",
    "y_val = np.ravel(np.array(y_val.values))\n",
    "\n",
    "columns = X_train.columns\n",
    "\n",
    "X_train = np.array(X_train.values)\n",
    "X_val = np.array(X_val.values)\n",
    "\n",
    "scaler = preprocessing.StandardScaler().fit(X_train) # Compute mean and std of training set\n",
    "X_train = scaler.transform(X_train, copy=True)\n",
    "X_val = scaler.transform(X_val, copy=True)"
   ]
  },
  {
   "cell_type": "code",
   "execution_count": 3,
   "id": "187d9833-ef2d-4d17-9dfb-ae71a1531486",
   "metadata": {},
   "outputs": [],
   "source": [
    "def plot_ROC_curve(fpr, tpr, roc_auc, title):\n",
    "    plt.figure(figsize=[5, 5])\n",
    "    plt.title(title)\n",
    "    plt.plot(fpr, tpr, color='b',\n",
    "                 label=r'SGD_log_reg (AUC = %0.3f)' % (roc_auc),\n",
    "                 lw=2, alpha=.8)\n",
    "    plt.plot([0, 1], [0, 1], linestyle='--', lw=1, color='grey', alpha=.5)\n",
    "    plt.xlim([-0.05, 1.05])\n",
    "    plt.ylim([-0.05, 1.05])\n",
    "    plt.xlabel('False Positive Rate = 1 - Specificity')\n",
    "    plt.ylabel('True Positive Rate = Sensitivity')\n",
    "    plt.legend(loc=\"lower right\")\n",
    "    plt.show()"
   ]
  },
  {
   "cell_type": "code",
   "execution_count": 4,
   "id": "fd07b35f-1922-4cf6-80b7-0eed7de26cdb",
   "metadata": {},
   "outputs": [],
   "source": [
    "def results(pred_probas):\n",
    "    OMI_score = np.round(pred_probas[:, 1]*100, decimals=2)\n",
    "    y_pred = np.where(OMI_score<5, 'Low risk', 'Intermediate risk')\n",
    "    y_pred = np.where(OMI_score>=20, 'High risk', y_pred)\n",
    "    \n",
    "    results = {\n",
    "        'Low risk': [np.count_nonzero(y_pred == 'Low risk')],\n",
    "        'Intermediate risk': [np.count_nonzero(y_pred == 'Intermediate risk')],\n",
    "        'High risk': [np.count_nonzero(y_pred == 'High risk')]\n",
    "    }\n",
    "    return(pd.DataFrame(data=results, index=['Count (N)']))"
   ]
  },
  {
   "cell_type": "code",
   "execution_count": 5,
   "id": "0b4f22c2-a698-44b5-abf6-fafe96e80da1",
   "metadata": {},
   "outputs": [],
   "source": [
    "def bootstrap_metric_ci(y_true, y_pred, metric_fn, n_bootstrap=1000, alpha=0.05):\n",
    "    \"\"\"\n",
    "    Compute 95% confidence interval using bootstrapping for any metric.\n",
    "    \n",
    "    Parameters:\n",
    "    - y_true: Ground truth labels (0 or 1).\n",
    "    - y_pred: Predicted values (either probabilities or binary predictions).\n",
    "    - metric_fn: Metric function (roc_auc_score, recall_score, f1_score).\n",
    "    - n_bootstrap: Number of bootstrap resamples.\n",
    "    - alpha: Significance level (default 0.05 for 95% CI).\n",
    "\n",
    "    Returns:\n",
    "    - Lower and upper bound of the confidence interval.\n",
    "    \"\"\"\n",
    "    scores = []\n",
    "    \n",
    "    for _ in range(n_bootstrap):\n",
    "        # Resample dataset with replacement\n",
    "        indices = resample(range(len(y_true)), replace=True, n_samples=len(y_true))\n",
    "        y_true_bootstrap = np.array(y_true)[indices]\n",
    "        y_pred_bootstrap = np.array(y_pred)[indices]\n",
    "\n",
    "        # Special case for AUROC: Use roc_curve and auc()\n",
    "        if metric_fn == \"auroc\":\n",
    "            fpr, tpr, _ = roc_curve(y_true_bootstrap, y_pred_bootstrap)\n",
    "            score = auc(fpr, tpr)\n",
    "        else:\n",
    "            score = metric_fn(y_true_bootstrap, y_pred_bootstrap)\n",
    "\n",
    "        scores.append(score)\n",
    "    \n",
    "    # Compute confidence interval\n",
    "    lower_bound = np.percentile(scores, 100 * (alpha / 2))\n",
    "    upper_bound = np.percentile(scores, 100 * (1 - alpha / 2))\n",
    "    \n",
    "    return lower_bound, upper_bound"
   ]
  },
  {
   "cell_type": "code",
   "execution_count": 7,
   "id": "1a12205b-3b17-466b-83f9-8bc0453f87cb",
   "metadata": {},
   "outputs": [
    {
     "name": "stdout",
     "output_type": "stream",
     "text": [
      "Hyperparameter Tuning with 10-Fold Cross-Validation\n",
      "Searching for optimal hyperparameters across 144 combinations...\n"
     ]
    },
    {
     "name": "stderr",
     "output_type": "stream",
     "text": [
      "  3%|█████▊                                                                                                                                                                                                           | 4/144 [00:00<00:12, 10.91it/s]"
     ]
    },
    {
     "name": "stdout",
     "output_type": "stream",
     "text": [
      "Parameters: alpha=0.0001, penalty=l2, learning_rate=optimal, eta0=N/A, CV AUROC=0.7703 ± 0.0518\n",
      "Parameters: alpha=0.0001, penalty=l2, learning_rate=invscaling, eta0=0.01, CV AUROC=0.8007 ± 0.0599\n"
     ]
    },
    {
     "name": "stderr",
     "output_type": "stream",
     "text": [
      "  6%|███████████▌                                                                                                                                                                                                     | 8/144 [00:00<00:09, 14.51it/s]"
     ]
    },
    {
     "name": "stdout",
     "output_type": "stream",
     "text": [
      "Parameters: alpha=0.0001, penalty=l2, learning_rate=invscaling, eta0=0.1, CV AUROC=0.8317 ± 0.0488\n",
      "Parameters: alpha=0.0001, penalty=l2, learning_rate=invscaling, eta0=1, CV AUROC=0.8265 ± 0.0383\n",
      "Parameters: alpha=0.0001, penalty=l2, learning_rate=constant, eta0=0.01, CV AUROC=0.8223 ± 0.0372\n",
      "Parameters: alpha=0.0001, penalty=l2, learning_rate=constant, eta0=0.1, CV AUROC=0.7464 ± 0.0678\n"
     ]
    },
    {
     "name": "stderr",
     "output_type": "stream",
     "text": [
      "  7%|██████████████▍                                                                                                                                                                                                 | 10/144 [00:00<00:10, 12.75it/s]"
     ]
    },
    {
     "name": "stdout",
     "output_type": "stream",
     "text": [
      "Parameters: alpha=0.0001, penalty=l2, learning_rate=constant, eta0=1, CV AUROC=0.6774 ± 0.1208\n",
      "Parameters: alpha=0.0001, penalty=l2, learning_rate=adaptive, eta0=0.01, CV AUROC=0.8329 ± 0.0368\n",
      "Parameters: alpha=0.0001, penalty=l2, learning_rate=adaptive, eta0=0.1, CV AUROC=0.8256 ± 0.0478\n"
     ]
    },
    {
     "name": "stderr",
     "output_type": "stream",
     "text": [
      "  8%|█████████████████▎                                                                                                                                                                                              | 12/144 [00:01<00:18,  7.11it/s]"
     ]
    },
    {
     "name": "stdout",
     "output_type": "stream",
     "text": [
      "Parameters: alpha=0.0001, penalty=l2, learning_rate=adaptive, eta0=1, CV AUROC=0.8239 ± 0.0461\n"
     ]
    },
    {
     "name": "stderr",
     "output_type": "stream",
     "text": [
      " 10%|████████████████████▏                                                                                                                                                                                           | 14/144 [00:02<00:36,  3.61it/s]"
     ]
    },
    {
     "name": "stdout",
     "output_type": "stream",
     "text": [
      "Parameters: alpha=0.0001, penalty=l1, learning_rate=optimal, eta0=N/A, CV AUROC=0.8060 ± 0.0587\n"
     ]
    },
    {
     "name": "stderr",
     "output_type": "stream",
     "text": [
      " 12%|████████████████████████▌                                                                                                                                                                                       | 17/144 [00:02<00:26,  4.73it/s]"
     ]
    },
    {
     "name": "stdout",
     "output_type": "stream",
     "text": [
      "Parameters: alpha=0.0001, penalty=l1, learning_rate=invscaling, eta0=0.01, CV AUROC=0.8003 ± 0.0603\n",
      "Parameters: alpha=0.0001, penalty=l1, learning_rate=invscaling, eta0=0.1, CV AUROC=0.8312 ± 0.0491\n"
     ]
    },
    {
     "name": "stderr",
     "output_type": "stream",
     "text": [
      " 13%|███████████████████████████▍                                                                                                                                                                                    | 19/144 [00:03<00:21,  5.88it/s]"
     ]
    },
    {
     "name": "stdout",
     "output_type": "stream",
     "text": [
      "Parameters: alpha=0.0001, penalty=l1, learning_rate=invscaling, eta0=1, CV AUROC=0.8266 ± 0.0393\n",
      "Parameters: alpha=0.0001, penalty=l1, learning_rate=constant, eta0=0.01, CV AUROC=0.8245 ± 0.0374\n"
     ]
    },
    {
     "name": "stderr",
     "output_type": "stream",
     "text": [
      " 14%|████████████████████████████▉                                                                                                                                                                                   | 20/144 [00:03<00:21,  5.76it/s]"
     ]
    },
    {
     "name": "stdout",
     "output_type": "stream",
     "text": [
      "Parameters: alpha=0.0001, penalty=l1, learning_rate=constant, eta0=0.1, CV AUROC=0.7489 ± 0.0487\n"
     ]
    },
    {
     "name": "stderr",
     "output_type": "stream",
     "text": [
      " 15%|██████████████████████████████▎                                                                                                                                                                                 | 21/144 [00:03<00:23,  5.25it/s]"
     ]
    },
    {
     "name": "stdout",
     "output_type": "stream",
     "text": [
      "Parameters: alpha=0.0001, penalty=l1, learning_rate=constant, eta0=1, CV AUROC=0.7586 ± 0.0717\n"
     ]
    },
    {
     "name": "stderr",
     "output_type": "stream",
     "text": [
      " 15%|███████████████████████████████▊                                                                                                                                                                                | 22/144 [00:03<00:25,  4.71it/s]"
     ]
    },
    {
     "name": "stdout",
     "output_type": "stream",
     "text": [
      "Parameters: alpha=0.0001, penalty=l1, learning_rate=adaptive, eta0=0.01, CV AUROC=0.8340 ± 0.0380\n"
     ]
    },
    {
     "name": "stderr",
     "output_type": "stream",
     "text": [
      " 16%|█████████████████████████████████▏                                                                                                                                                                              | 23/144 [00:04<00:35,  3.41it/s]"
     ]
    },
    {
     "name": "stdout",
     "output_type": "stream",
     "text": [
      "Parameters: alpha=0.0001, penalty=l1, learning_rate=adaptive, eta0=0.1, CV AUROC=0.8252 ± 0.0495\n"
     ]
    },
    {
     "name": "stderr",
     "output_type": "stream",
     "text": [
      " 17%|██████████████████████████████████▋                                                                                                                                                                             | 24/144 [00:05<00:57,  2.09it/s]"
     ]
    },
    {
     "name": "stdout",
     "output_type": "stream",
     "text": [
      "Parameters: alpha=0.0001, penalty=l1, learning_rate=adaptive, eta0=1, CV AUROC=0.8235 ± 0.0516\n"
     ]
    },
    {
     "name": "stderr",
     "output_type": "stream",
     "text": [
      " 17%|████████████████████████████████████                                                                                                                                                                            | 25/144 [00:05<00:54,  2.19it/s]"
     ]
    },
    {
     "name": "stdout",
     "output_type": "stream",
     "text": [
      "Parameters: alpha=0.0001, penalty=elasticnet, learning_rate=optimal, eta0=N/A, CV AUROC=0.7381 ± 0.0428\n"
     ]
    },
    {
     "name": "stderr",
     "output_type": "stream",
     "text": [
      " 20%|█████████████████████████████████████████▉                                                                                                                                                                      | 29/144 [00:06<00:25,  4.47it/s]"
     ]
    },
    {
     "name": "stdout",
     "output_type": "stream",
     "text": [
      "Parameters: alpha=0.0001, penalty=elasticnet, learning_rate=invscaling, eta0=0.01, CV AUROC=0.8006 ± 0.0600\n",
      "Parameters: alpha=0.0001, penalty=elasticnet, learning_rate=invscaling, eta0=0.1, CV AUROC=0.8316 ± 0.0487\n",
      "Parameters: alpha=0.0001, penalty=elasticnet, learning_rate=invscaling, eta0=1, CV AUROC=0.8272 ± 0.0386\n"
     ]
    },
    {
     "name": "stderr",
     "output_type": "stream",
     "text": [
      " 22%|██████████████████████████████████████████████▏                                                                                                                                                                 | 32/144 [00:06<00:17,  6.52it/s]"
     ]
    },
    {
     "name": "stdout",
     "output_type": "stream",
     "text": [
      "Parameters: alpha=0.0001, penalty=elasticnet, learning_rate=constant, eta0=0.01, CV AUROC=0.8231 ± 0.0370\n",
      "Parameters: alpha=0.0001, penalty=elasticnet, learning_rate=constant, eta0=0.1, CV AUROC=0.7559 ± 0.0670\n",
      "Parameters: alpha=0.0001, penalty=elasticnet, learning_rate=constant, eta0=1, CV AUROC=0.7185 ± 0.1112\n"
     ]
    },
    {
     "name": "stderr",
     "output_type": "stream",
     "text": [
      " 24%|█████████████████████████████████████████████████                                                                                                                                                               | 34/144 [00:06<00:17,  6.24it/s]"
     ]
    },
    {
     "name": "stdout",
     "output_type": "stream",
     "text": [
      "Parameters: alpha=0.0001, penalty=elasticnet, learning_rate=adaptive, eta0=0.01, CV AUROC=0.8331 ± 0.0370\n"
     ]
    },
    {
     "name": "stderr",
     "output_type": "stream",
     "text": [
      " 24%|██████████████████████████████████████████████████▌                                                                                                                                                             | 35/144 [00:07<00:22,  4.81it/s]"
     ]
    },
    {
     "name": "stdout",
     "output_type": "stream",
     "text": [
      "Parameters: alpha=0.0001, penalty=elasticnet, learning_rate=adaptive, eta0=0.1, CV AUROC=0.8256 ± 0.0489\n"
     ]
    },
    {
     "name": "stderr",
     "output_type": "stream",
     "text": [
      " 26%|█████████████████████████████████████████████████████▍                                                                                                                                                          | 37/144 [00:07<00:29,  3.64it/s]"
     ]
    },
    {
     "name": "stdout",
     "output_type": "stream",
     "text": [
      "Parameters: alpha=0.0001, penalty=elasticnet, learning_rate=adaptive, eta0=1, CV AUROC=0.8237 ± 0.0471\n",
      "Parameters: alpha=0.001, penalty=l2, learning_rate=optimal, eta0=N/A, CV AUROC=0.8228 ± 0.0438\n"
     ]
    },
    {
     "name": "stderr",
     "output_type": "stream",
     "text": [
      " 29%|████████████████████████████████████████████████████████████▋                                                                                                                                                   | 42/144 [00:08<00:13,  7.59it/s]"
     ]
    },
    {
     "name": "stdout",
     "output_type": "stream",
     "text": [
      "Parameters: alpha=0.001, penalty=l2, learning_rate=invscaling, eta0=0.01, CV AUROC=0.8007 ± 0.0599\n",
      "Parameters: alpha=0.001, penalty=l2, learning_rate=invscaling, eta0=0.1, CV AUROC=0.8314 ± 0.0488\n",
      "Parameters: alpha=0.001, penalty=l2, learning_rate=invscaling, eta0=1, CV AUROC=0.8281 ± 0.0357\n",
      "Parameters: alpha=0.001, penalty=l2, learning_rate=constant, eta0=0.01, CV AUROC=0.8235 ± 0.0385\n"
     ]
    },
    {
     "name": "stderr",
     "output_type": "stream",
     "text": [
      " 32%|██████████████████████████████████████████████████████████████████▍                                                                                                                                             | 46/144 [00:08<00:10,  9.65it/s]"
     ]
    },
    {
     "name": "stdout",
     "output_type": "stream",
     "text": [
      "Parameters: alpha=0.001, penalty=l2, learning_rate=constant, eta0=0.1, CV AUROC=0.7118 ± 0.1048\n",
      "Parameters: alpha=0.001, penalty=l2, learning_rate=constant, eta0=1, CV AUROC=0.6532 ± 0.0585\n",
      "Parameters: alpha=0.001, penalty=l2, learning_rate=adaptive, eta0=0.01, CV AUROC=0.8355 ± 0.0369\n",
      "Parameters: alpha=0.001, penalty=l2, learning_rate=adaptive, eta0=0.1, CV AUROC=0.8328 ± 0.0399\n"
     ]
    },
    {
     "name": "stderr",
     "output_type": "stream",
     "text": [
      " 33%|█████████████████████████████████████████████████████████████████████▎                                                                                                                                          | 48/144 [00:08<00:13,  7.06it/s]"
     ]
    },
    {
     "name": "stdout",
     "output_type": "stream",
     "text": [
      "Parameters: alpha=0.001, penalty=l2, learning_rate=adaptive, eta0=1, CV AUROC=0.8325 ± 0.0396\n"
     ]
    },
    {
     "name": "stderr",
     "output_type": "stream",
     "text": [
      " 34%|██████████████████████████████████████████████████████████████████████▊                                                                                                                                         | 49/144 [00:10<00:43,  2.17it/s]"
     ]
    },
    {
     "name": "stdout",
     "output_type": "stream",
     "text": [
      "Parameters: alpha=0.001, penalty=l1, learning_rate=optimal, eta0=N/A, CV AUROC=0.7885 ± 0.0602\n"
     ]
    },
    {
     "name": "stderr",
     "output_type": "stream",
     "text": [
      " 37%|████████████████████████████████████████████████████████████████████████████▌                                                                                                                                   | 53/144 [00:11<00:25,  3.58it/s]"
     ]
    },
    {
     "name": "stdout",
     "output_type": "stream",
     "text": [
      "Parameters: alpha=0.001, penalty=l1, learning_rate=invscaling, eta0=0.01, CV AUROC=0.7952 ± 0.0624\n",
      "Parameters: alpha=0.001, penalty=l1, learning_rate=invscaling, eta0=0.1, CV AUROC=0.8261 ± 0.0549\n"
     ]
    },
    {
     "name": "stderr",
     "output_type": "stream",
     "text": [
      " 38%|███████████████████████████████████████████████████████████████████████████████▍                                                                                                                                | 55/144 [00:11<00:19,  4.50it/s]"
     ]
    },
    {
     "name": "stdout",
     "output_type": "stream",
     "text": [
      "Parameters: alpha=0.001, penalty=l1, learning_rate=invscaling, eta0=1, CV AUROC=0.8338 ± 0.0392\n",
      "Parameters: alpha=0.001, penalty=l1, learning_rate=constant, eta0=0.01, CV AUROC=0.8281 ± 0.0384\n"
     ]
    },
    {
     "name": "stderr",
     "output_type": "stream",
     "text": [
      " 39%|████████████████████████████████████████████████████████████████████████████████▉                                                                                                                               | 56/144 [00:11<00:18,  4.74it/s]"
     ]
    },
    {
     "name": "stdout",
     "output_type": "stream",
     "text": [
      "Parameters: alpha=0.001, penalty=l1, learning_rate=constant, eta0=0.1, CV AUROC=0.7626 ± 0.0688\n"
     ]
    },
    {
     "name": "stderr",
     "output_type": "stream",
     "text": [
      " 40%|██████████████████████████████████████████████████████████████████████████████████▎                                                                                                                             | 57/144 [00:12<00:20,  4.25it/s]"
     ]
    },
    {
     "name": "stdout",
     "output_type": "stream",
     "text": [
      "Parameters: alpha=0.001, penalty=l1, learning_rate=constant, eta0=1, CV AUROC=0.6978 ± 0.0747\n"
     ]
    },
    {
     "name": "stderr",
     "output_type": "stream",
     "text": [
      " 40%|███████████████████████████████████████████████████████████████████████████████████▊                                                                                                                            | 58/144 [00:12<00:22,  3.78it/s]"
     ]
    },
    {
     "name": "stdout",
     "output_type": "stream",
     "text": [
      "Parameters: alpha=0.001, penalty=l1, learning_rate=adaptive, eta0=0.01, CV AUROC=0.8354 ± 0.0409\n"
     ]
    },
    {
     "name": "stderr",
     "output_type": "stream",
     "text": [
      " 41%|█████████████████████████████████████████████████████████████████████████████████████▏                                                                                                                          | 59/144 [00:12<00:28,  3.03it/s]"
     ]
    },
    {
     "name": "stdout",
     "output_type": "stream",
     "text": [
      "Parameters: alpha=0.001, penalty=l1, learning_rate=adaptive, eta0=0.1, CV AUROC=0.8371 ± 0.0449\n"
     ]
    },
    {
     "name": "stderr",
     "output_type": "stream",
     "text": [
      " 42%|██████████████████████████████████████████████████████████████████████████████████████▋                                                                                                                         | 60/144 [00:13<00:39,  2.11it/s]"
     ]
    },
    {
     "name": "stdout",
     "output_type": "stream",
     "text": [
      "Parameters: alpha=0.001, penalty=l1, learning_rate=adaptive, eta0=1, CV AUROC=0.8337 ± 0.0447\n"
     ]
    },
    {
     "name": "stderr",
     "output_type": "stream",
     "text": [
      " 42%|████████████████████████████████████████████████████████████████████████████████████████                                                                                                                        | 61/144 [00:14<00:37,  2.20it/s]"
     ]
    },
    {
     "name": "stdout",
     "output_type": "stream",
     "text": [
      "Parameters: alpha=0.001, penalty=elasticnet, learning_rate=optimal, eta0=N/A, CV AUROC=0.8214 ± 0.0426\n"
     ]
    },
    {
     "name": "stderr",
     "output_type": "stream",
     "text": [
      " 45%|█████████████████████████████████████████████████████████████████████████████████████████████▉                                                                                                                  | 65/144 [00:14<00:17,  4.44it/s]"
     ]
    },
    {
     "name": "stdout",
     "output_type": "stream",
     "text": [
      "Parameters: alpha=0.001, penalty=elasticnet, learning_rate=invscaling, eta0=0.01, CV AUROC=0.8002 ± 0.0604\n",
      "Parameters: alpha=0.001, penalty=elasticnet, learning_rate=invscaling, eta0=0.1, CV AUROC=0.8308 ± 0.0496\n"
     ]
    },
    {
     "name": "stderr",
     "output_type": "stream",
     "text": [
      " 47%|████████████████████████████████████████████████████████████████████████████████████████████████▊                                                                                                               | 67/144 [00:14<00:13,  5.52it/s]"
     ]
    },
    {
     "name": "stdout",
     "output_type": "stream",
     "text": [
      "Parameters: alpha=0.001, penalty=elasticnet, learning_rate=invscaling, eta0=1, CV AUROC=0.8300 ± 0.0363\n",
      "Parameters: alpha=0.001, penalty=elasticnet, learning_rate=constant, eta0=0.01, CV AUROC=0.8205 ± 0.0586\n"
     ]
    },
    {
     "name": "stderr",
     "output_type": "stream",
     "text": [
      " 47%|██████████████████████████████████████████████████████████████████████████████████████████████████▏                                                                                                             | 68/144 [00:14<00:14,  5.22it/s]"
     ]
    },
    {
     "name": "stdout",
     "output_type": "stream",
     "text": [
      "Parameters: alpha=0.001, penalty=elasticnet, learning_rate=constant, eta0=0.1, CV AUROC=0.7550 ± 0.0763\n"
     ]
    },
    {
     "name": "stderr",
     "output_type": "stream",
     "text": [
      " 48%|███████████████████████████████████████████████████████████████████████████████████████████████████▋                                                                                                            | 69/144 [00:15<00:17,  4.35it/s]"
     ]
    },
    {
     "name": "stdout",
     "output_type": "stream",
     "text": [
      "Parameters: alpha=0.001, penalty=elasticnet, learning_rate=constant, eta0=1, CV AUROC=0.6363 ± 0.1032\n"
     ]
    },
    {
     "name": "stderr",
     "output_type": "stream",
     "text": [
      " 49%|█████████████████████████████████████████████████████████████████████████████████████████████████████                                                                                                           | 70/144 [00:15<00:18,  4.10it/s]"
     ]
    },
    {
     "name": "stdout",
     "output_type": "stream",
     "text": [
      "Parameters: alpha=0.001, penalty=elasticnet, learning_rate=adaptive, eta0=0.01, CV AUROC=0.8359 ± 0.0379\n"
     ]
    },
    {
     "name": "stderr",
     "output_type": "stream",
     "text": [
      " 49%|██████████████████████████████████████████████████████████████████████████████████████████████████████▌                                                                                                         | 71/144 [00:16<00:23,  3.09it/s]"
     ]
    },
    {
     "name": "stdout",
     "output_type": "stream",
     "text": [
      "Parameters: alpha=0.001, penalty=elasticnet, learning_rate=adaptive, eta0=0.1, CV AUROC=0.8347 ± 0.0399\n"
     ]
    },
    {
     "name": "stderr",
     "output_type": "stream",
     "text": [
      " 50%|████████████████████████████████████████████████████████████████████████████████████████████████████████                                                                                                        | 72/144 [00:17<00:35,  2.03it/s]"
     ]
    },
    {
     "name": "stdout",
     "output_type": "stream",
     "text": [
      "Parameters: alpha=0.001, penalty=elasticnet, learning_rate=adaptive, eta0=1, CV AUROC=0.8316 ± 0.0396\n"
     ]
    },
    {
     "name": "stderr",
     "output_type": "stream",
     "text": [
      " 51%|█████████████████████████████████████████████████████████████████████████████████████████████████████████▍                                                                                                      | 73/144 [00:17<00:29,  2.43it/s]"
     ]
    },
    {
     "name": "stdout",
     "output_type": "stream",
     "text": [
      "Parameters: alpha=0.01, penalty=l2, learning_rate=optimal, eta0=N/A, CV AUROC=0.8253 ± 0.0411\n",
      "Parameters: alpha=0.01, penalty=l2, learning_rate=invscaling, eta0=0.01, CV AUROC=0.7998 ± 0.0604\n"
     ]
    },
    {
     "name": "stderr",
     "output_type": "stream",
     "text": [
      " 54%|████████████████████████████████████████████████████████████████████████████████████████████████████████████████▋                                                                                               | 78/144 [00:17<00:10,  6.05it/s]"
     ]
    },
    {
     "name": "stdout",
     "output_type": "stream",
     "text": [
      "Parameters: alpha=0.01, penalty=l2, learning_rate=invscaling, eta0=0.1, CV AUROC=0.8273 ± 0.0516\n",
      "Parameters: alpha=0.01, penalty=l2, learning_rate=invscaling, eta0=1, CV AUROC=0.8200 ± 0.0506\n",
      "Parameters: alpha=0.01, penalty=l2, learning_rate=constant, eta0=0.01, CV AUROC=0.8059 ± 0.0561\n",
      "Parameters: alpha=0.01, penalty=l2, learning_rate=constant, eta0=0.1, CV AUROC=0.6734 ± 0.0836\n"
     ]
    },
    {
     "name": "stderr",
     "output_type": "stream",
     "text": [
      " 56%|█████████████████████████████████████████████████████████████████████████████████████████████████████████████████████                                                                                           | 81/144 [00:17<00:07,  8.65it/s]"
     ]
    },
    {
     "name": "stdout",
     "output_type": "stream",
     "text": [
      "Parameters: alpha=0.01, penalty=l2, learning_rate=constant, eta0=1, CV AUROC=0.5484 ± 0.0900\n",
      "Parameters: alpha=0.01, penalty=l2, learning_rate=adaptive, eta0=0.01, CV AUROC=0.8346 ± 0.0434\n"
     ]
    },
    {
     "name": "stderr",
     "output_type": "stream",
     "text": [
      " 58%|███████████████████████████████████████████████████████████████████████████████████████████████████████████████████████▉                                                                                        | 83/144 [00:18<00:08,  7.58it/s]"
     ]
    },
    {
     "name": "stdout",
     "output_type": "stream",
     "text": [
      "Parameters: alpha=0.01, penalty=l2, learning_rate=adaptive, eta0=0.1, CV AUROC=0.8349 ± 0.0428\n",
      "Parameters: alpha=0.01, penalty=l2, learning_rate=adaptive, eta0=1, CV AUROC=0.8339 ± 0.0426\n"
     ]
    },
    {
     "name": "stderr",
     "output_type": "stream",
     "text": [
      " 59%|██████████████████████████████████████████████████████████████████████████████████████████████████████████████████████████▊                                                                                     | 85/144 [00:19<00:17,  3.33it/s]"
     ]
    },
    {
     "name": "stdout",
     "output_type": "stream",
     "text": [
      "Parameters: alpha=0.01, penalty=l1, learning_rate=optimal, eta0=N/A, CV AUROC=0.7882 ± 0.0628\n"
     ]
    },
    {
     "name": "stderr",
     "output_type": "stream",
     "text": [
      " 62%|████████████████████████████████████████████████████████████████████████████████████████████████████████████████████████████████▌                                                                               | 89/144 [00:20<00:13,  4.16it/s]"
     ]
    },
    {
     "name": "stdout",
     "output_type": "stream",
     "text": [
      "Parameters: alpha=0.01, penalty=l1, learning_rate=invscaling, eta0=0.01, CV AUROC=0.7636 ± 0.0715\n",
      "Parameters: alpha=0.01, penalty=l1, learning_rate=invscaling, eta0=0.1, CV AUROC=0.7887 ± 0.0668\n"
     ]
    },
    {
     "name": "stderr",
     "output_type": "stream",
     "text": [
      " 63%|███████████████████████████████████████████████████████████████████████████████████████████████████████████████████████████████████▍                                                                            | 91/144 [00:20<00:11,  4.78it/s]"
     ]
    },
    {
     "name": "stdout",
     "output_type": "stream",
     "text": [
      "Parameters: alpha=0.01, penalty=l1, learning_rate=invscaling, eta0=1, CV AUROC=0.7941 ± 0.0615\n",
      "Parameters: alpha=0.01, penalty=l1, learning_rate=constant, eta0=0.01, CV AUROC=0.7859 ± 0.0594\n"
     ]
    },
    {
     "name": "stderr",
     "output_type": "stream",
     "text": [
      " 65%|██████████████████████████████████████████████████████████████████████████████████████████████████████████████████████████████████████▎                                                                         | 93/144 [00:20<00:09,  5.28it/s]"
     ]
    },
    {
     "name": "stdout",
     "output_type": "stream",
     "text": [
      "Parameters: alpha=0.01, penalty=l1, learning_rate=constant, eta0=0.1, CV AUROC=0.7294 ± 0.0598\n",
      "Parameters: alpha=0.01, penalty=l1, learning_rate=constant, eta0=1, CV AUROC=0.6768 ± 0.0795\n"
     ]
    },
    {
     "name": "stderr",
     "output_type": "stream",
     "text": [
      " 65%|███████████████████████████████████████████████████████████████████████████████████████████████████████████████████████████████████████▊                                                                        | 94/144 [00:21<00:13,  3.73it/s]"
     ]
    },
    {
     "name": "stdout",
     "output_type": "stream",
     "text": [
      "Parameters: alpha=0.01, penalty=l1, learning_rate=adaptive, eta0=0.01, CV AUROC=0.7918 ± 0.0595\n"
     ]
    },
    {
     "name": "stderr",
     "output_type": "stream",
     "text": [
      " 66%|█████████████████████████████████████████████████████████████████████████████████████████████████████████████████████████████████████████▏                                                                      | 95/144 [00:21<00:17,  2.77it/s]"
     ]
    },
    {
     "name": "stdout",
     "output_type": "stream",
     "text": [
      "Parameters: alpha=0.01, penalty=l1, learning_rate=adaptive, eta0=0.1, CV AUROC=0.7917 ± 0.0591\n"
     ]
    },
    {
     "name": "stderr",
     "output_type": "stream",
     "text": [
      " 67%|██████████████████████████████████████████████████████████████████████████████████████████████████████████████████████████████████████████▋                                                                     | 96/144 [00:22<00:23,  2.06it/s]"
     ]
    },
    {
     "name": "stdout",
     "output_type": "stream",
     "text": [
      "Parameters: alpha=0.01, penalty=l1, learning_rate=adaptive, eta0=1, CV AUROC=0.7873 ± 0.0616\n"
     ]
    },
    {
     "name": "stderr",
     "output_type": "stream",
     "text": [
      " 67%|████████████████████████████████████████████████████████████████████████████████████████████████████████████████████████████████████████████                                                                    | 97/144 [00:23<00:23,  2.01it/s]"
     ]
    },
    {
     "name": "stdout",
     "output_type": "stream",
     "text": [
      "Parameters: alpha=0.01, penalty=elasticnet, learning_rate=optimal, eta0=N/A, CV AUROC=0.8164 ± 0.0464\n"
     ]
    },
    {
     "name": "stderr",
     "output_type": "stream",
     "text": [
      " 70%|█████████████████████████████████████████████████████████████████████████████████████████████████████████████████████████████████████████████████▏                                                             | 101/144 [00:23<00:11,  3.84it/s]"
     ]
    },
    {
     "name": "stdout",
     "output_type": "stream",
     "text": [
      "Parameters: alpha=0.01, penalty=elasticnet, learning_rate=invscaling, eta0=0.01, CV AUROC=0.7922 ± 0.0632\n",
      "Parameters: alpha=0.01, penalty=elasticnet, learning_rate=invscaling, eta0=0.1, CV AUROC=0.8167 ± 0.0591\n"
     ]
    },
    {
     "name": "stderr",
     "output_type": "stream",
     "text": [
      " 72%|████████████████████████████████████████████████████████████████████████████████████████████████████████████████████████████████████████████████████                                                           | 103/144 [00:23<00:08,  5.09it/s]"
     ]
    },
    {
     "name": "stdout",
     "output_type": "stream",
     "text": [
      "Parameters: alpha=0.01, penalty=elasticnet, learning_rate=invscaling, eta0=1, CV AUROC=0.8113 ± 0.0552\n",
      "Parameters: alpha=0.01, penalty=elasticnet, learning_rate=constant, eta0=0.01, CV AUROC=0.8069 ± 0.0587\n"
     ]
    },
    {
     "name": "stderr",
     "output_type": "stream",
     "text": [
      " 72%|█████████████████████████████████████████████████████████████████████████████████████████████████████████████████████████████████████████████████████▌                                                         | 104/144 [00:24<00:07,  5.22it/s]"
     ]
    },
    {
     "name": "stdout",
     "output_type": "stream",
     "text": [
      "Parameters: alpha=0.01, penalty=elasticnet, learning_rate=constant, eta0=0.1, CV AUROC=0.7218 ± 0.0709\n"
     ]
    },
    {
     "name": "stderr",
     "output_type": "stream",
     "text": [
      " 73%|██████████████████████████████████████████████████████████████████████████████████████████████████████████████████████████████████████████████████████▉                                                        | 105/144 [00:24<00:08,  4.80it/s]"
     ]
    },
    {
     "name": "stdout",
     "output_type": "stream",
     "text": [
      "Parameters: alpha=0.01, penalty=elasticnet, learning_rate=constant, eta0=1, CV AUROC=0.6608 ± 0.0552\n"
     ]
    },
    {
     "name": "stderr",
     "output_type": "stream",
     "text": [
      " 74%|████████████████████████████████████████████████████████████████████████████████████████████████████████████████████████████████████████████████████████▍                                                      | 106/144 [00:24<00:09,  4.18it/s]"
     ]
    },
    {
     "name": "stdout",
     "output_type": "stream",
     "text": [
      "Parameters: alpha=0.01, penalty=elasticnet, learning_rate=adaptive, eta0=0.01, CV AUROC=0.8264 ± 0.0518\n"
     ]
    },
    {
     "name": "stderr",
     "output_type": "stream",
     "text": [
      " 74%|█████████████████████████████████████████████████████████████████████████████████████████████████████████████████████████████████████████████████████████▊                                                     | 107/144 [00:25<00:11,  3.12it/s]"
     ]
    },
    {
     "name": "stdout",
     "output_type": "stream",
     "text": [
      "Parameters: alpha=0.01, penalty=elasticnet, learning_rate=adaptive, eta0=0.1, CV AUROC=0.8251 ± 0.0540\n"
     ]
    },
    {
     "name": "stderr",
     "output_type": "stream",
     "text": [
      " 75%|███████████████████████████████████████████████████████████████████████████████████████████████████████████████████████████████████████████████████████████▎                                                   | 108/144 [00:26<00:16,  2.23it/s]"
     ]
    },
    {
     "name": "stdout",
     "output_type": "stream",
     "text": [
      "Parameters: alpha=0.01, penalty=elasticnet, learning_rate=adaptive, eta0=1, CV AUROC=0.8175 ± 0.0550\n",
      "Parameters: alpha=0.1, penalty=l2, learning_rate=optimal, eta0=N/A, CV AUROC=0.7826 ± 0.0651\n"
     ]
    },
    {
     "name": "stderr",
     "output_type": "stream",
     "text": [
      " 79%|███████████████████████████████████████████████████████████████████████████████████████████████████████████████████████████████████████████████████████████████████▉                                           | 114/144 [00:26<00:04,  6.16it/s]"
     ]
    },
    {
     "name": "stdout",
     "output_type": "stream",
     "text": [
      "Parameters: alpha=0.1, penalty=l2, learning_rate=invscaling, eta0=0.01, CV AUROC=0.7910 ± 0.0628\n",
      "Parameters: alpha=0.1, penalty=l2, learning_rate=invscaling, eta0=0.1, CV AUROC=0.7950 ± 0.0629\n",
      "Parameters: alpha=0.1, penalty=l2, learning_rate=invscaling, eta0=1, CV AUROC=0.7782 ± 0.0704\n",
      "Parameters: alpha=0.1, penalty=l2, learning_rate=constant, eta0=0.01, CV AUROC=0.7464 ± 0.0683\n",
      "Parameters: alpha=0.1, penalty=l2, learning_rate=constant, eta0=0.1, CV AUROC=0.5720 ± 0.1223\n"
     ]
    },
    {
     "name": "stderr",
     "output_type": "stream",
     "text": [
      " 81%|████████████████████████████████████████████████████████████████████████████████████████████████████████████████████████████████████████████████████████████████████████▏                                      | 117/144 [00:26<00:03,  8.59it/s]"
     ]
    },
    {
     "name": "stdout",
     "output_type": "stream",
     "text": [
      "Parameters: alpha=0.1, penalty=l2, learning_rate=constant, eta0=1, CV AUROC=0.4645 ± 0.1089\n",
      "Parameters: alpha=0.1, penalty=l2, learning_rate=adaptive, eta0=0.01, CV AUROC=0.7930 ± 0.0638\n"
     ]
    },
    {
     "name": "stderr",
     "output_type": "stream",
     "text": [
      " 83%|███████████████████████████████████████████████████████████████████████████████████████████████████████████████████████████████████████████████████████████████████████████                                    | 119/144 [00:26<00:03,  7.71it/s]"
     ]
    },
    {
     "name": "stdout",
     "output_type": "stream",
     "text": [
      "Parameters: alpha=0.1, penalty=l2, learning_rate=adaptive, eta0=0.1, CV AUROC=0.7939 ± 0.0628\n"
     ]
    },
    {
     "name": "stderr",
     "output_type": "stream",
     "text": [
      " 84%|█████████████████████████████████████████████████████████████████████████████████████████████████████████████████████████████████████████████████████████████████████████████▉                                 | 121/144 [00:27<00:03,  6.47it/s]"
     ]
    },
    {
     "name": "stdout",
     "output_type": "stream",
     "text": [
      "Parameters: alpha=0.1, penalty=l2, learning_rate=adaptive, eta0=1, CV AUROC=0.7934 ± 0.0640\n",
      "Parameters: alpha=0.1, penalty=l1, learning_rate=optimal, eta0=N/A, CV AUROC=0.5000 ± 0.0000\n"
     ]
    },
    {
     "name": "stderr",
     "output_type": "stream",
     "text": [
      " 87%|███████████████████████████████████████████████████████████████████████████████████████████████████████████████████████████████████████████████████████████████████████████████████▋                           | 125/144 [00:28<00:03,  5.87it/s]"
     ]
    },
    {
     "name": "stdout",
     "output_type": "stream",
     "text": [
      "Parameters: alpha=0.1, penalty=l1, learning_rate=invscaling, eta0=0.01, CV AUROC=0.5000 ± 0.0000\n",
      "Parameters: alpha=0.1, penalty=l1, learning_rate=invscaling, eta0=0.1, CV AUROC=0.5000 ± 0.0000\n"
     ]
    },
    {
     "name": "stderr",
     "output_type": "stream",
     "text": [
      " 89%|████████████████████████████████████████████████████████████████████████████████████████████████████████████████████████████████████████████████████████████████████████████████████████                       | 128/144 [00:28<00:02,  7.32it/s]"
     ]
    },
    {
     "name": "stdout",
     "output_type": "stream",
     "text": [
      "Parameters: alpha=0.1, penalty=l1, learning_rate=invscaling, eta0=1, CV AUROC=0.5000 ± 0.0000\n",
      "Parameters: alpha=0.1, penalty=l1, learning_rate=constant, eta0=0.01, CV AUROC=0.5000 ± 0.0000\n",
      "Parameters: alpha=0.1, penalty=l1, learning_rate=constant, eta0=0.1, CV AUROC=0.5000 ± 0.0000\n"
     ]
    },
    {
     "name": "stderr",
     "output_type": "stream",
     "text": [
      " 90%|█████████████████████████████████████████████████████████████████████████████████████████████████████████████████████████████████████████████████████████████████████████████████████████▍                     | 129/144 [00:28<00:02,  7.23it/s]"
     ]
    },
    {
     "name": "stdout",
     "output_type": "stream",
     "text": [
      "Parameters: alpha=0.1, penalty=l1, learning_rate=constant, eta0=1, CV AUROC=0.5000 ± 0.0000\n"
     ]
    },
    {
     "name": "stderr",
     "output_type": "stream",
     "text": [
      " 90%|██████████████████████████████████████████████████████████████████████████████████████████████████████████████████████████████████████████████████████████████████████████████████████████▉                    | 130/144 [00:28<00:03,  4.37it/s]"
     ]
    },
    {
     "name": "stdout",
     "output_type": "stream",
     "text": [
      "Parameters: alpha=0.1, penalty=l1, learning_rate=adaptive, eta0=0.01, CV AUROC=0.5000 ± 0.0000\n"
     ]
    },
    {
     "name": "stderr",
     "output_type": "stream",
     "text": [
      " 91%|████████████████████████████████████████████████████████████████████████████████████████████████████████████████████████████████████████████████████████████████████████████████████████████▎                  | 131/144 [00:29<00:04,  3.07it/s]"
     ]
    },
    {
     "name": "stdout",
     "output_type": "stream",
     "text": [
      "Parameters: alpha=0.1, penalty=l1, learning_rate=adaptive, eta0=0.1, CV AUROC=0.5000 ± 0.0000\n"
     ]
    },
    {
     "name": "stderr",
     "output_type": "stream",
     "text": [
      " 92%|█████████████████████████████████████████████████████████████████████████████████████████████████████████████████████████████████████████████████████████████████████████████████████████████▊                 | 132/144 [00:30<00:05,  2.30it/s]"
     ]
    },
    {
     "name": "stdout",
     "output_type": "stream",
     "text": [
      "Parameters: alpha=0.1, penalty=l1, learning_rate=adaptive, eta0=1, CV AUROC=0.5000 ± 0.0000\n",
      "Parameters: alpha=0.1, penalty=elasticnet, learning_rate=optimal, eta0=N/A, CV AUROC=0.7233 ± 0.0757\n"
     ]
    },
    {
     "name": "stderr",
     "output_type": "stream",
     "text": [
      " 95%|████████████████████████████████████████████████████████████████████████████████████████████████████████████████████████████████████████████████████████████████████████████████████████████████████▉          | 137/144 [00:31<00:01,  3.89it/s]"
     ]
    },
    {
     "name": "stdout",
     "output_type": "stream",
     "text": [
      "Parameters: alpha=0.1, penalty=elasticnet, learning_rate=invscaling, eta0=0.01, CV AUROC=0.7328 ± 0.0797\n",
      "Parameters: alpha=0.1, penalty=elasticnet, learning_rate=invscaling, eta0=0.1, CV AUROC=0.7352 ± 0.0792\n"
     ]
    },
    {
     "name": "stderr",
     "output_type": "stream",
     "text": [
      " 97%|███████████████████████████████████████████████████████████████████████████████████████████████████████████████████████████████████████████████████████████████████████████████████████████████████████▊       | 139/144 [00:31<00:01,  4.86it/s]"
     ]
    },
    {
     "name": "stdout",
     "output_type": "stream",
     "text": [
      "Parameters: alpha=0.1, penalty=elasticnet, learning_rate=invscaling, eta0=1, CV AUROC=0.7245 ± 0.0936\n",
      "Parameters: alpha=0.1, penalty=elasticnet, learning_rate=constant, eta0=0.01, CV AUROC=0.7415 ± 0.0729\n"
     ]
    },
    {
     "name": "stderr",
     "output_type": "stream",
     "text": [
      " 98%|██████████████████████████████████████████████████████████████████████████████████████████████████████████████████████████████████████████████████████████████████████████████████████████████████████████▋    | 141/144 [00:31<00:00,  5.58it/s]"
     ]
    },
    {
     "name": "stdout",
     "output_type": "stream",
     "text": [
      "Parameters: alpha=0.1, penalty=elasticnet, learning_rate=constant, eta0=0.1, CV AUROC=0.6476 ± 0.0849\n",
      "Parameters: alpha=0.1, penalty=elasticnet, learning_rate=constant, eta0=1, CV AUROC=0.5838 ± 0.1019\n"
     ]
    },
    {
     "name": "stderr",
     "output_type": "stream",
     "text": [
      " 99%|████████████████████████████████████████████████████████████████████████████████████████████████████████████████████████████████████████████████████████████████████████████████████████████████████████████▏  | 142/144 [00:32<00:00,  3.79it/s]"
     ]
    },
    {
     "name": "stdout",
     "output_type": "stream",
     "text": [
      "Parameters: alpha=0.1, penalty=elasticnet, learning_rate=adaptive, eta0=0.01, CV AUROC=0.7361 ± 0.0769\n"
     ]
    },
    {
     "name": "stderr",
     "output_type": "stream",
     "text": [
      " 99%|█████████████████████████████████████████████████████████████████████████████████████████████████████████████████████████████████████████████████████████████████████████████████████████████████████████████▌ | 143/144 [00:32<00:00,  2.69it/s]"
     ]
    },
    {
     "name": "stdout",
     "output_type": "stream",
     "text": [
      "Parameters: alpha=0.1, penalty=elasticnet, learning_rate=adaptive, eta0=0.1, CV AUROC=0.7350 ± 0.0769\n"
     ]
    },
    {
     "name": "stderr",
     "output_type": "stream",
     "text": [
      "100%|███████████████████████████████████████████████████████████████████████████████████████████████████████████████████████████████████████████████████████████████████████████████████████████████████████████████| 144/144 [00:33<00:00,  4.26it/s]"
     ]
    },
    {
     "name": "stdout",
     "output_type": "stream",
     "text": [
      "Parameters: alpha=0.1, penalty=elasticnet, learning_rate=adaptive, eta0=1, CV AUROC=0.7339 ± 0.0789\n",
      "\n",
      "Top 5 parameter combinations:\n",
      "    alpha     penalty learning_rate  eta0  mean_auroc  std_auroc\n",
      "48  0.001          l1      adaptive   0.1    0.837147   0.044878\n",
      "57  0.001  elasticnet      adaptive  0.01    0.835941   0.037854\n",
      "37  0.001          l2      adaptive  0.01    0.835450   0.036910\n",
      "47  0.001          l1      adaptive  0.01    0.835388   0.040919\n",
      "68  0.010          l2      adaptive   0.1    0.834942   0.042808\n",
      "\n",
      "Best Parameters: {'alpha': 0.001, 'penalty': 'l1', 'learning_rate': 'adaptive', 'eta0': 0.1}\n",
      "Best Cross-Validation AUROC: 0.8371\n",
      "Best model saved as 'best_sgd_model.pkl'\n"
     ]
    },
    {
     "name": "stderr",
     "output_type": "stream",
     "text": [
      "\n"
     ]
    },
    {
     "data": {
      "image/png": "[encoded data removed]",
      "text/plain": [
       "<Figure size 1200x800 with 2 Axes>"
      ]
     },
     "metadata": {},
     "output_type": "display_data"
    }
   ],
   "source": [
    "from sklearn.linear_model import SGDClassifier\n",
    "from sklearn.metrics import roc_auc_score\n",
    "from sklearn.model_selection import StratifiedKFold\n",
    "import numpy as np\n",
    "from tqdm import tqdm\n",
    "import pandas as pd\n",
    "\n",
    "print(\"Hyperparameter Tuning with 10-Fold Cross-Validation\")\n",
    "best_mean_auroc = 0\n",
    "best_params = {}\n",
    "best_model = None\n",
    "\n",
    "# Define cross-validation strategy\n",
    "cv = StratifiedKFold(n_splits=10, shuffle=True, random_state=42)\n",
    "\n",
    "# Parameter grid\n",
    "alpha_values = [0.0001, 0.001, 0.01, 0.1]  # Regularization strength\n",
    "penalty_values = ['l2', 'l1', 'elasticnet']  # Regularization type\n",
    "learning_rate_values = ['optimal', 'invscaling', 'constant', 'adaptive']  # Learning rate schedule\n",
    "eta0_values = [0.01, 0.1, 1]  # Initial learning rate, must be > 0\n",
    "\n",
    "# Calculate total number of parameter combinations\n",
    "total_combinations = len(alpha_values) * len(penalty_values) * len(learning_rate_values) * len(eta0_values)\n",
    "print(f\"Searching for optimal hyperparameters across {total_combinations} combinations...\")\n",
    "\n",
    "# Store results for later analysis\n",
    "results_list = []\n",
    "\n",
    "# Use tqdm for progress tracking\n",
    "pbar = tqdm(total=total_combinations)\n",
    "\n",
    "for alpha in alpha_values:\n",
    "    for penalty in penalty_values:\n",
    "        for learning_rate in learning_rate_values:\n",
    "            for eta0 in eta0_values:\n",
    "                # Skip combinations where eta0 is not needed\n",
    "                if learning_rate == 'optimal' and eta0 != eta0_values[0]:\n",
    "                    pbar.update(1)\n",
    "                    continue\n",
    "                \n",
    "                # Ensure eta0 is used only when necessary\n",
    "                params = {\n",
    "                    'loss': 'log_loss', 'alpha': alpha, 'penalty': penalty,\n",
    "                    'max_iter': 1000, 'tol': 1e-3, 'learning_rate': learning_rate,\n",
    "                    'random_state': 42\n",
    "                }\n",
    "                \n",
    "                # eta0 is required for 'constant', 'invscaling', and 'adaptive' learning rates\n",
    "                if learning_rate in ['constant', 'invscaling', 'adaptive']:\n",
    "                    params['eta0'] = eta0\n",
    "                \n",
    "                try:\n",
    "                    # List to store AUROC scores for each fold\n",
    "                    fold_aurocs = []\n",
    "                    \n",
    "                    # Perform cross-validation\n",
    "                    for train_idx, val_idx in cv.split(X_train, y_train):\n",
    "                        # Split data for this fold\n",
    "                        X_fold_train, X_fold_val = X_train[train_idx], X_train[val_idx]\n",
    "                        y_fold_train, y_fold_val = y_train[train_idx], y_train[val_idx]\n",
    "                        \n",
    "                        # Create and train SGD Logistic Regression model with current parameters\n",
    "                        current_sgd = SGDClassifier(**params)\n",
    "                        current_sgd.fit(X_fold_train, y_fold_train)\n",
    "                        \n",
    "                        # Evaluate on validation fold using AUROC\n",
    "                        val_probas = current_sgd.predict_proba(X_fold_val)[:, 1]  # Get positive class probabilities\n",
    "                        auroc_val = roc_auc_score(y_fold_val, val_probas)\n",
    "                        fold_aurocs.append(auroc_val)\n",
    "                    \n",
    "                    # Calculate mean and standard deviation across folds\n",
    "                    mean_auroc = np.mean(fold_aurocs)\n",
    "                    std_auroc = np.std(fold_aurocs)\n",
    "                    \n",
    "                    eta0_text = eta0 if learning_rate in ['constant', 'invscaling', 'adaptive'] else 'N/A'\n",
    "                    print(f\"Parameters: alpha={alpha}, penalty={penalty}, learning_rate={learning_rate}, eta0={eta0_text}, CV AUROC={mean_auroc:.4f} ± {std_auroc:.4f}\")\n",
    "                    \n",
    "                    # Store results\n",
    "                    results_list.append({\n",
    "                        'alpha': alpha,\n",
    "                        'penalty': penalty,\n",
    "                        'learning_rate': learning_rate,\n",
    "                        'eta0': eta0_text,\n",
    "                        'mean_auroc': mean_auroc,\n",
    "                        'std_auroc': std_auroc\n",
    "                    })\n",
    "                    \n",
    "                    # Track best model based on mean AUROC\n",
    "                    if mean_auroc > best_mean_auroc:\n",
    "                        best_mean_auroc = mean_auroc\n",
    "                        best_params = {\n",
    "                            'alpha': alpha,\n",
    "                            'penalty': penalty,\n",
    "                            'learning_rate': learning_rate,\n",
    "                            'eta0': eta0_text if eta0_text != 'N/A' else None\n",
    "                        }\n",
    "                \n",
    "                except Exception as e:\n",
    "                    print(f\"Error with parameters: alpha={alpha}, penalty={penalty}, learning_rate={learning_rate}, eta0={eta0 if learning_rate in ['constant', 'invscaling', 'adaptive'] else 'N/A'}\")\n",
    "                    print(f\"Error message: {str(e)}\")\n",
    "                \n",
    "                # Update progress bar\n",
    "                pbar.update(1)\n",
    "\n",
    "pbar.close()\n",
    "\n",
    "# Convert results to DataFrame for easier analysis\n",
    "results_df = pd.DataFrame(results_list)\n",
    "print(\"\\nTop 5 parameter combinations:\")\n",
    "print(results_df.sort_values('mean_auroc', ascending=False).head(5))\n",
    "\n",
    "# Create final model with best parameters\n",
    "final_params = {\n",
    "    'loss': 'log_loss', \n",
    "    'alpha': best_params['alpha'], \n",
    "    'penalty': best_params['penalty'],\n",
    "    'learning_rate': best_params['learning_rate'],\n",
    "    'max_iter': 1000, \n",
    "    'tol': 1e-3,\n",
    "    'random_state': 42\n",
    "}\n",
    "\n",
    "if best_params['eta0'] is not None:\n",
    "    final_params['eta0'] = best_params['eta0']\n",
    "\n",
    "print(f\"\\nBest Parameters: {best_params}\")\n",
    "print(f\"Best Cross-Validation AUROC: {best_mean_auroc:.4f}\")\n",
    "\n",
    "# Train final model with best parameters on the full training set\n",
    "best_model = SGDClassifier(**final_params)\n",
    "best_model.fit(X_train, y_train)\n",
    "\n",
    "# If you want to evaluate the best model on a test set (if available)\n",
    "if 'X_test' in locals() and 'y_test' in locals():\n",
    "    test_probas = best_model.predict_proba(X_test)[:, 1]\n",
    "    test_auroc = roc_auc_score(y_test, test_probas)\n",
    "    print(f\"Test set AUROC for best model: {test_auroc:.4f}\")\n",
    "\n",
    "# Save the best model\n",
    "import joblib\n",
    "joblib.dump(best_model, 'best_sgd_model.pkl')\n",
    "print(\"Best model saved as 'best_sgd_model.pkl'\")\n",
    "\n",
    "# Use the best model found\n",
    "clf = best_model\n",
    "\n",
    "# Optionally, plot heatmap of performances\n",
    "import matplotlib.pyplot as plt\n",
    "import seaborn as sns\n",
    "\n",
    "# Create pivot table of mean AUROC scores grouped by alpha and penalty\n",
    "plt.figure(figsize=(12, 8))\n",
    "pivot = results_df.pivot_table(\n",
    "    index='alpha', \n",
    "    columns='penalty',\n",
    "    values='mean_auroc',\n",
    "    aggfunc='max'  # Max AUROC across learning_rate and eta0 values\n",
    ")\n",
    "sns.heatmap(pivot, annot=True, cmap='viridis', fmt='.4f')\n",
    "plt.title('Max Cross-Validation AUROC by Alpha and Penalty')\n",
    "plt.savefig('sgd_performance_heatmap.png')"
   ]
  },
  {
   "cell_type": "code",
   "execution_count": 8,
   "id": "820a8347-2f6b-451a-a0a2-d2c6dd17c2b3",
   "metadata": {},
   "outputs": [
    {
     "data": {
      "image/png": "[encoded data removed]",
      "text/plain": [
       "<Figure size 500x500 with 1 Axes>"
      ]
     },
     "metadata": {},
     "output_type": "display_data"
    },
    {
     "name": "stdout",
     "output_type": "stream",
     "text": [
      "Training AUROC: 0.892 (95% CI: 0.867, 0.915)\n"
     ]
    }
   ],
   "source": [
    "# Predict on training data\n",
    "pred_probas_train = clf.predict_proba(X_train)\n",
    "risk_groups_train = results(pred_probas_train)\n",
    "\n",
    "# Compute ROC curve and area under the curve\n",
    "fpr, tpr, thresholds = roc_curve(y_train, pred_probas_train[:,1])\n",
    "roc_auc = auc(fpr, tpr)\n",
    "plot_ROC_curve(fpr, tpr, roc_auc, 'Training curve: Derivation cohort (ROC curves)')\n",
    "\n",
    "# Compute AUROC CI\n",
    "auroc_ci_lower_train, auroc_ci_upper_train = bootstrap_metric_ci(y_train, pred_probas_train[:,1], \"auroc\")\n",
    "\n",
    "print(f\"Training AUROC: {roc_auc:.3f} (95% CI: {auroc_ci_lower_train:.3f}, {auroc_ci_upper_train:.3f})\")"
   ]
  },
  {
   "cell_type": "code",
   "execution_count": 9,
   "id": "6d7e63cc-0a08-4147-aa78-65d8a867aee4",
   "metadata": {},
   "outputs": [
    {
     "name": "stdout",
     "output_type": "stream",
     "text": [
      "\n",
      "Val\n"
     ]
    },
    {
     "data": {
      "image/png": "[encoded data removed]",
      "text/plain": [
       "<Figure size 500x500 with 1 Axes>"
      ]
     },
     "metadata": {},
     "output_type": "display_data"
    },
    {
     "name": "stdout",
     "output_type": "stream",
     "text": [
      "Val AUROC: 0.868 (95% CI: 0.793, 0.934)\n"
     ]
    }
   ],
   "source": [
    "# Evaluate on validation set\n",
    "print(\"\\nVal\")\n",
    "pred_probas_val = clf.predict_proba(X_val)\n",
    "risk_groups_val = results(pred_probas_val)\n",
    "\n",
    "# Compute ROC curve and area under the curve for validation set\n",
    "fpr_val, tpr_val, thresholds_val = roc_curve(y_val, pred_probas_val[:,1])\n",
    "roc_auc_val = auc(fpr_val, tpr_val)\n",
    "plot_ROC_curve(fpr_val, tpr_val, roc_auc_val, 'Validation curve: Derivation cohort (ROC curves)')\n",
    "\n",
    "# Compute AUROC CI\n",
    "auroc_ci_lower_val, auroc_ci_upper_val = bootstrap_metric_ci(y_val, pred_probas_val[:,1], \"auroc\")\n",
    "\n",
    "print(f\"Val AUROC: {roc_auc_val:.3f} (95% CI: {auroc_ci_lower_val:.3f}, {auroc_ci_upper_val:.3f})\")"
   ]
  },
  {
   "cell_type": "code",
   "execution_count": null,
   "id": "af076c7b-a5db-4bd9-a3d4-ed0b50c8ff42",
   "metadata": {},
   "outputs": [],
   "source": []
  }
 ],
 "metadata": {
  "kernelspec": {
   "display_name": "Python 3 (ipykernel)",
   "language": "python",
   "name": "python3"
  },
  "language_info": {
   "codemirror_mode": {
    "name": "ipython",
    "version": 3
   },
   "file_extension": ".py",
   "mimetype": "text/x-python",
   "name": "python",
   "nbconvert_exporter": "python",
   "pygments_lexer": "ipython3",
   "version": "3.12.8"
  }
 },
 "nbformat": 4,
 "nbformat_minor": 5
}
