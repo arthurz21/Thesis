{
 "cells": [
  {
   "cell_type": "code",
   "execution_count": 1,
   "id": "3b74131c-6ce6-417f-a27f-1d9025571de3",
   "metadata": {},
   "outputs": [],
   "source": [
    "from sklearn.svm import SVC\n",
    "from sklearn.model_selection import GridSearchCV\n",
    "import numpy as np\n",
    "import pandas as pd\n",
    "import os\n",
    "from sklearn.metrics import roc_curve, auc, precision_recall_curve, average_precision_score, confusion_matrix, ConfusionMatrixDisplay, classification_report\n",
    "import shap\n",
    "from sklearn import preprocessing\n",
    "from sklearn.model_selection import train_test_split\n",
    "import matplotlib.pyplot as plt\n",
    "from sklearn.calibration import CalibratedClassifierCV\n",
    "from sklearn.metrics import precision_score, recall_score, f1_score\n",
    "from copy import deepcopy\n",
    "from math import sqrt\n",
    "from sklearn.utils import resample\n",
    "from sklearn.metrics import make_scorer, recall_score"
   ]
  },
  {
   "cell_type": "code",
   "execution_count": 2,
   "id": "e1e2d581-89a3-4099-8d07-bc5ff81e98ff",
   "metadata": {},
   "outputs": [
    {
     "name": "stderr",
     "output_type": "stream",
     "text": [
      "C:\\Users\\arthu\\AppData\\Local\\Temp\\ipykernel_55376\\30534957.py:9: FutureWarning: A value is trying to be set on a copy of a DataFrame or Series through chained assignment using an inplace method.\n",
      "The behavior will change in pandas 3.0. This inplace method will never work because the intermediate object on which we are setting values always behaves as a copy.\n",
      "\n",
      "For example, when doing 'df[col].method(value, inplace=True)', try using 'df.method({col: value}, inplace=True)' or df[col] = df[col].method(value) instead, to perform the operation inplace on the original object.\n",
      "\n",
      "\n",
      "  X_train[el].fillna(X_train[el].mode()[0], inplace=True)\n",
      "C:\\Users\\arthu\\AppData\\Local\\Temp\\ipykernel_55376\\30534957.py:10: FutureWarning: A value is trying to be set on a copy of a DataFrame or Series through chained assignment using an inplace method.\n",
      "The behavior will change in pandas 3.0. This inplace method will never work because the intermediate object on which we are setting values always behaves as a copy.\n",
      "\n",
      "For example, when doing 'df[col].method(value, inplace=True)', try using 'df.method({col: value}, inplace=True)' or df[col] = df[col].method(value) instead, to perform the operation inplace on the original object.\n",
      "\n",
      "\n",
      "  X_val[el].fillna(X_train[el].mode()[0], inplace=True)\n"
     ]
    }
   ],
   "source": [
    "derivation_cohort = pd.read_csv(\"Derivation_dataset.csv\")\n",
    "\n",
    "y = derivation_cohort['Outcome_Occlusion_MI']\n",
    "X = derivation_cohort.drop('Outcome_Occlusion_MI', axis=1)\n",
    "X_train, X_val, y_train, y_val = train_test_split(X, y, test_size=0.2, stratify = y, random_state = 99)\n",
    "\n",
    "\n",
    "for el in X_train.columns:\n",
    "    X_train[el].fillna(X_train[el].mode()[0], inplace=True)\n",
    "    X_val[el].fillna(X_train[el].mode()[0], inplace=True)\n",
    "\n",
    "y_train = np.ravel(np.array(y_train.values))\n",
    "y_val = np.ravel(np.array(y_val.values))\n",
    "\n",
    "columns = X_train.columns\n",
    "\n",
    "X_train = np.array(X_train.values)\n",
    "X_val = np.array(X_val.values)\n",
    "\n",
    "scaler = preprocessing.StandardScaler().fit(X_train) # Compute mean and std of training set\n",
    "X_train = scaler.transform(X_train, copy=True)\n",
    "X_val = scaler.transform(X_val, copy=True)"
   ]
  },
  {
   "cell_type": "code",
   "execution_count": 8,
   "id": "5c90df24-e6c8-40d0-a4e0-90c5b81baf96",
   "metadata": {},
   "outputs": [],
   "source": [
    "def plot_ROC_curve(fpr, tpr, roc_auc, title):\n",
    "    plt.figure(figsize=[5, 5])\n",
    "    plt.title(title)\n",
    "    plt.plot(fpr, tpr, color='b',\n",
    "                 label=r'SVM (AUC = %0.3f)' % (roc_auc),\n",
    "                 lw=2, alpha=.8)\n",
    "    plt.plot([0, 1], [0, 1], linestyle='--', lw=1, color='grey', alpha=.5)\n",
    "    plt.xlim([-0.05, 1.05])\n",
    "    plt.ylim([-0.05, 1.05])\n",
    "    plt.xlabel('False Positive Rate = 1 - Specificity')\n",
    "    plt.ylabel('True Positive Rate = Sensitivity')\n",
    "    plt.legend(loc=\"lower right\")\n",
    "    plt.show()"
   ]
  },
  {
   "cell_type": "code",
   "execution_count": 4,
   "id": "68898572-898b-46b3-94a4-ca3f0eaa5be4",
   "metadata": {},
   "outputs": [],
   "source": [
    "def results(pred_probas):\n",
    "    OMI_score = np.round(pred_probas[:, 1]*100, decimals=2)\n",
    "    y_pred = np.where(OMI_score<5, 'Low risk', 'Intermediate risk')\n",
    "    y_pred = np.where(OMI_score>=20, 'High risk', y_pred)\n",
    "    \n",
    "    results = {\n",
    "        'Low risk': [np.count_nonzero(y_pred == 'Low risk')],\n",
    "        'Intermediate risk': [np.count_nonzero(y_pred == 'Intermediate risk')],\n",
    "        'High risk': [np.count_nonzero(y_pred == 'High risk')]\n",
    "    }\n",
    "    return(pd.DataFrame(data=results, index=['Count (N)']))"
   ]
  },
  {
   "cell_type": "code",
   "execution_count": 5,
   "id": "86fb11ef-0c90-4a50-821d-91b9ce627059",
   "metadata": {},
   "outputs": [],
   "source": [
    "def bootstrap_metric_ci(y_true, y_pred, metric_fn, n_bootstrap=1000, alpha=0.05):\n",
    "    \"\"\"\n",
    "    Compute 95% confidence interval using bootstrapping for any metric.\n",
    "    \n",
    "    Parameters:\n",
    "    - y_true: Ground truth labels (0 or 1).\n",
    "    - y_pred: Predicted values (either probabilities or binary predictions).\n",
    "    - metric_fn: Metric function (roc_auc_score, recall_score, f1_score).\n",
    "    - n_bootstrap: Number of bootstrap resamples.\n",
    "    - alpha: Significance level (default 0.05 for 95% CI).\n",
    "\n",
    "    Returns:\n",
    "    - Lower and upper bound of the confidence interval.\n",
    "    \"\"\"\n",
    "    scores = []\n",
    "    \n",
    "    for _ in range(n_bootstrap):\n",
    "        # Resample dataset with replacement\n",
    "        indices = resample(range(len(y_true)), replace=True, n_samples=len(y_true))\n",
    "        y_true_bootstrap = np.array(y_true)[indices]\n",
    "        y_pred_bootstrap = np.array(y_pred)[indices]\n",
    "\n",
    "        # Special case for AUROC: Use roc_curve and auc()\n",
    "        if metric_fn == \"auroc\":\n",
    "            fpr, tpr, _ = roc_curve(y_true_bootstrap, y_pred_bootstrap)\n",
    "            score = auc(fpr, tpr)\n",
    "        else:\n",
    "            score = metric_fn(y_true_bootstrap, y_pred_bootstrap)\n",
    "\n",
    "        scores.append(score)\n",
    "    \n",
    "    # Compute confidence interval\n",
    "    lower_bound = np.percentile(scores, 100 * (alpha / 2))\n",
    "    upper_bound = np.percentile(scores, 100 * (1 - alpha / 2))\n",
    "    \n",
    "    return lower_bound, upper_bound"
   ]
  },
  {
   "cell_type": "code",
   "execution_count": 11,
   "id": "db7c71cc-9b79-47f8-a629-408c3a7cb2da",
   "metadata": {},
   "outputs": [
    {
     "name": "stdout",
     "output_type": "stream",
     "text": [
      "Hyperparameter Tuning on Validation Set\n",
      "Searching for optimal hyperparameters...\n",
      "Parameters: C=0.1, kernel=linear, gamma=scale\n",
      "Parameters: C=0.1, kernel=linear, gamma=auto\n",
      "Parameters: C=0.1, kernel=poly, gamma=scale\n",
      "Parameters: C=0.1, kernel=poly, gamma=auto\n",
      "Parameters: C=0.1, kernel=rbf, gamma=scale\n",
      "Parameters: C=0.1, kernel=rbf, gamma=auto\n",
      "Parameters: C=0.1, kernel=sigmoid, gamma=scale\n",
      "Parameters: C=0.1, kernel=sigmoid, gamma=auto\n",
      "Parameters: C=1, kernel=linear, gamma=scale\n",
      "Parameters: C=1, kernel=linear, gamma=auto\n",
      "Parameters: C=1, kernel=poly, gamma=scale\n",
      "Parameters: C=1, kernel=poly, gamma=auto\n",
      "Parameters: C=1, kernel=rbf, gamma=scale\n",
      "Parameters: C=1, kernel=rbf, gamma=auto\n",
      "Parameters: C=1, kernel=sigmoid, gamma=scale\n",
      "Parameters: C=1, kernel=sigmoid, gamma=auto\n",
      "Parameters: C=10, kernel=linear, gamma=scale\n",
      "Parameters: C=10, kernel=linear, gamma=auto\n",
      "Parameters: C=10, kernel=poly, gamma=scale\n",
      "Parameters: C=10, kernel=poly, gamma=auto\n",
      "Parameters: C=10, kernel=rbf, gamma=scale\n",
      "Parameters: C=10, kernel=rbf, gamma=auto\n",
      "Parameters: C=10, kernel=sigmoid, gamma=scale\n",
      "Parameters: C=10, kernel=sigmoid, gamma=auto\n",
      "Parameters: C=100, kernel=linear, gamma=scale\n",
      "Parameters: C=100, kernel=linear, gamma=auto\n",
      "Parameters: C=100, kernel=poly, gamma=scale\n",
      "Parameters: C=100, kernel=poly, gamma=auto\n",
      "Parameters: C=100, kernel=rbf, gamma=scale\n",
      "Parameters: C=100, kernel=rbf, gamma=auto\n",
      "Parameters: C=100, kernel=sigmoid, gamma=scale\n",
      "Parameters: C=100, kernel=sigmoid, gamma=auto\n",
      "\n",
      "Best Parameters: {'C': 0.1, 'kernel': 'rbf', 'gamma': 'scale'}\n",
      "Best Validation recall score: 0.6190\n"
     ]
    }
   ],
   "source": [
    "print(\"Hyperparameter Tuning on Validation Set\")\n",
    "\n",
    "best_score = 0\n",
    "best_params = {}\n",
    "best_model = None\n",
    "\n",
    "print(\"Searching for optimal hyperparameters...\")\n",
    "for C in [0.1, 1, 10, 100]:  # Regularization strength\n",
    "    for kernel in ['linear', 'poly', 'rbf', 'sigmoid']:  # Kernel choice\n",
    "        for gamma in ['scale', 'auto']:  # Kernel coefficient\n",
    "        \n",
    "            # Create and train model with current parameters\n",
    "            current_svm = SVC(\n",
    "                C=C,\n",
    "                kernel=kernel,\n",
    "                gamma=gamma,\n",
    "                probability=True,  # Needed for predict_proba\n",
    "                class_weight='balanced',  # <-- ADDED FOR CLASS WEIGHTING\n",
    "                random_state=42\n",
    "            )\n",
    "            \n",
    "            # Train on training set\n",
    "            current_svm.fit(X_train, y_train)\n",
    "            \n",
    "            # Evaluate on validation set\n",
    "            val_probas = current_svm.predict_proba(X_val)\n",
    "            y_pred_clinical_val = (val_probas[:,1] >= 0.20).astype(int)\n",
    "            recall_clinical_val = recall_score(y_val, y_pred_clinical_val)\n",
    "            \n",
    "            print(f\"Parameters: C={C}, kernel={kernel}, gamma={gamma}\")\n",
    "            \n",
    "            # Track best model\n",
    "            if recall_clinical_val > best_score:\n",
    "                best_score = recall_clinical_val\n",
    "                best_params = {\n",
    "                    'C': C,\n",
    "                    'kernel': kernel,\n",
    "                    'gamma': gamma\n",
    "                }\n",
    "                best_model = current_svm\n",
    "\n",
    "print(f\"\\nBest Parameters: {best_params}\")\n",
    "print(f\"Best Validation recall score: {best_score:.4f}\")\n",
    "\n",
    "# Use the best model found\n",
    "clf = best_model"
   ]
  },
  {
   "cell_type": "code",
   "execution_count": 9,
   "id": "d0538fa3-45f5-40a5-b4a5-90ab8eabe641",
   "metadata": {},
   "outputs": [
    {
     "data": {
      "image/png": "[encoded data removed]",
      "text/plain": [
       "<Figure size 500x500 with 1 Axes>"
      ]
     },
     "metadata": {},
     "output_type": "display_data"
    },
    {
     "name": "stdout",
     "output_type": "stream",
     "text": [
      "Training Recall: 0.976 (95% CI: 0.951, 0.995)\n",
      "Training F1-score: 0.988 (95% CI: 0.976, 0.997)\n",
      "Training AUROC: 1.000 (95% CI: 1.000, 1.000)\n"
     ]
    }
   ],
   "source": [
    "# Predict on training data\n",
    "pred_probas_train = clf.predict_proba(X_train)\n",
    "risk_groups_train = results(pred_probas_train)\n",
    "\n",
    "# Compute ROC curve and area under the curve\n",
    "fpr, tpr, thresholds = roc_curve(y_train, pred_probas_train[:,1])\n",
    "roc_auc = auc(fpr, tpr)\n",
    "plot_ROC_curve(fpr, tpr, roc_auc, 'Training curve: Derivation cohort (ROC curves)')\n",
    "\n",
    "# Clinical threshold evaluation\n",
    "y_pred_clinical = (pred_probas_train[:,1] >= 0.20).astype(int)\n",
    "recall_clinical = recall_score(y_train, y_pred_clinical)\n",
    "f1 = f1_score(y_train, y_pred_clinical)\n",
    "\n",
    "# Compute AUROC CI\n",
    "auroc_ci_lower_train, auroc_ci_upper_train = bootstrap_metric_ci(y_train, pred_probas_train[:,1], \"auroc\")\n",
    "\n",
    "# Compute Recall CI\n",
    "recall_ci_lower_train, recall_ci_upper_train = bootstrap_metric_ci(y_train, y_pred_clinical, recall_score)\n",
    "\n",
    "# Compute F1-score CI\n",
    "f1_ci_lower_train, f1_ci_upper_train = bootstrap_metric_ci(y_train, y_pred_clinical, f1_score)\n",
    "\n",
    "print(f\"Training Recall: {recall_clinical:.3f} (95% CI: {recall_ci_lower_train:.3f}, {recall_ci_upper_train:.3f})\")\n",
    "\n",
    "print(f\"Training F1-score: {f1:.3f} (95% CI: {f1_ci_lower_train:.3f}, {f1_ci_upper_train:.3f})\")\n",
    "\n",
    "print(f\"Training AUROC: {roc_auc:.3f} (95% CI: {auroc_ci_lower_train:.3f}, {auroc_ci_upper_train:.3f})\")"
   ]
  },
  {
   "cell_type": "code",
   "execution_count": 10,
   "id": "1fd68cab-d4b2-4797-82a7-6f297666461a",
   "metadata": {},
   "outputs": [
    {
     "name": "stdout",
     "output_type": "stream",
     "text": [
      "\n",
      "Val\n"
     ]
    },
    {
     "data": {
      "image/png": "[encoded data removed]",
      "text/plain": [
       "<Figure size 500x500 with 1 Axes>"
      ]
     },
     "metadata": {},
     "output_type": "display_data"
    },
    {
     "name": "stdout",
     "output_type": "stream",
     "text": [
      "Val Recall: 0.571 (95% CI: 0.421, 0.714)\n",
      "Val F1-score: 0.649 (95% CI: 0.507, 0.771)\n",
      "Val AUROC: 0.919 (95% CI: 0.871, 0.958)\n"
     ]
    }
   ],
   "source": [
    "# Evaluate on validation set\n",
    "print(\"\\nVal\")\n",
    "pred_probas_val = clf.predict_proba(X_val)\n",
    "risk_groups_val = results(pred_probas_val)\n",
    "\n",
    "# Compute ROC curve and area under the curve for validation set\n",
    "fpr_val, tpr_val, thresholds_val = roc_curve(y_val, pred_probas_val[:,1])\n",
    "roc_auc_val = auc(fpr_val, tpr_val)\n",
    "plot_ROC_curve(fpr_val, tpr_val, roc_auc_val, 'Validation curve: Derivation cohort (ROC curves)')\n",
    "\n",
    "# Clinical threshold evaluation on val set\n",
    "y_pred_val_clinical = (pred_probas_val[:,1] >= 0.20).astype(int)\n",
    "recall_val_clinical = recall_score(y_val, y_pred_val_clinical)\n",
    "f1_val = f1_score(y_val, y_pred_val_clinical)\n",
    "\n",
    "# Compute AUROC CI\n",
    "auroc_ci_lower_val, auroc_ci_upper_val = bootstrap_metric_ci(y_val, pred_probas_val[:,1], \"auroc\")\n",
    "\n",
    "# Compute Recall CI\n",
    "recall_ci_lower_val, recall_ci_upper_val = bootstrap_metric_ci(y_val, y_pred_val_clinical, recall_score)\n",
    "\n",
    "# Compute F1-score CI\n",
    "f1_ci_lower_val, f1_ci_upper_val = bootstrap_metric_ci(y_val, y_pred_val_clinical, f1_score)\n",
    "\n",
    "print(f\"Val Recall: {recall_val_clinical:.3f} (95% CI: {recall_ci_lower_val:.3f}, {recall_ci_upper_val:.3f})\")\n",
    "\n",
    "print(f\"Val F1-score: {f1_val:.3f} (95% CI: {f1_ci_lower_val:.3f}, {f1_ci_upper_val:.3f})\")\n",
    "\n",
    "print(f\"Val AUROC: {roc_auc_val:.3f} (95% CI: {auroc_ci_lower_val:.3f}, {auroc_ci_upper_val:.3f})\")"
   ]
  },
  {
   "cell_type": "code",
   "execution_count": null,
   "id": "fdbfbda1-cf9c-4f69-9e80-398303bf1491",
   "metadata": {},
   "outputs": [],
   "source": []
  }
 ],
 "metadata": {
  "kernelspec": {
   "display_name": "Python 3 (ipykernel)",
   "language": "python",
   "name": "python3"
  },
  "language_info": {
   "codemirror_mode": {
    "name": "ipython",
    "version": 3
   },
   "file_extension": ".py",
   "mimetype": "text/x-python",
   "name": "python",
   "nbconvert_exporter": "python",
   "pygments_lexer": "ipython3",
   "version": "3.12.8"
  }
 },
 "nbformat": 4,
 "nbformat_minor": 5
}
